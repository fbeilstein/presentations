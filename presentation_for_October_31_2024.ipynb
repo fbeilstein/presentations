{
  "nbformat": 4,
  "nbformat_minor": 0,
  "metadata": {
    "colab": {
      "provenance": [],
      "authorship_tag": "ABX9TyOWQ4P5ZvUt9JaPDHNd8eTh",
      "include_colab_link": true
    },
    "kernelspec": {
      "name": "python3",
      "display_name": "Python 3"
    },
    "language_info": {
      "name": "python"
    }
  },
  "cells": [
    {
      "cell_type": "markdown",
      "metadata": {
        "id": "view-in-github",
        "colab_type": "text"
      },
      "source": [
        "<a href=\"https://colab.research.google.com/github/fbeilstein/presentations/blob/master/presentation_for_October_31_2024.ipynb\" target=\"_parent\"><img src=\"https://colab.research.google.com/assets/colab-badge.svg\" alt=\"Open In Colab\"/></a>"
      ]
    },
    {
      "cell_type": "code",
      "source": [
        "#@title ##Back propagation (how to get gradient)\n",
        "\n",
        "%%html\n",
        "<link rel=\"stylesheet\" href=\"https://fbeilstein.github.io/machine_learning/js_common/styles.css\"/>\n",
        "<script src=\"https://fbeilstein.github.io/machine_learning/js_common/script.js\"></script>\n",
        "<script>\n",
        "load_slides_from(\n",
        "[\n",
        "`\n",
        "  <img src=\"https://raw.githubusercontent.com/fbeilstein/presentations/master/images/back_prop/slide_1.jpg\" width=\"750px\">\n",
        "`,\n",
        "`\n",
        "  <img src=\"https://raw.githubusercontent.com/fbeilstein/presentations/master/images/back_prop/slide_2.jpg\" width=\"750px\">\n",
        "`,\n",
        "`\n",
        "  <img src=\"https://raw.githubusercontent.com/fbeilstein/presentations/master/images/back_prop/slide_3.jpg\" width=\"750px\">\n",
        "`,\n",
        "`\n",
        "  <img src=\"https://raw.githubusercontent.com/fbeilstein/presentations/master/images/back_prop/slide_4.jpg\" width=\"750px\">\n",
        "`,\n",
        "`\n",
        "  <img src=\"https://raw.githubusercontent.com/fbeilstein/presentations/master/images/back_prop/slide_5.jpg\" width=\"750px\">\n",
        "`,\n",
        "`\n",
        "  <img src=\"https://raw.githubusercontent.com/fbeilstein/presentations/master/images/back_prop/slide_6.jpg\" width=\"750px\">\n",
        "`,\n",
        "`\n",
        "  <img src=\"https://raw.githubusercontent.com/fbeilstein/presentations/master/images/back_prop/slide_7.jpg\" width=\"750px\">\n",
        "`,\n",
        "`\n",
        "  <img src=\"https://raw.githubusercontent.com/fbeilstein/presentations/master/images/back_prop/slide_8.jpg\" width=\"750px\">\n",
        "`,\n",
        "`\n",
        "  <img src=\"https://raw.githubusercontent.com/fbeilstein/presentations/master/images/back_prop/slide_9.jpg\" width=\"750px\">\n",
        "`,\n",
        "`\n",
        "  <img src=\"https://raw.githubusercontent.com/fbeilstein/presentations/master/images/back_prop/slide_10.jpg\" width=\"750px\">\n",
        "`,\n",
        "`\n",
        "  <img src=\"https://raw.githubusercontent.com/fbeilstein/presentations/master/images/back_prop/slide_11.jpg\" width=\"750px\">\n",
        "`,\n",
        "`\n",
        "  <img src=\"https://raw.githubusercontent.com/fbeilstein/presentations/master/images/back_prop/slide_12.jpg\" width=\"750px\">\n",
        "`,\n",
        "`\n",
        "  <img src=\"https://raw.githubusercontent.com/fbeilstein/presentations/master/images/back_prop/slide_13.jpg\" width=\"750px\">\n",
        "`,\n",
        "`\n",
        "  <img src=\"https://raw.githubusercontent.com/fbeilstein/presentations/master/images/back_prop/slide_14.jpg\" width=\"750px\">\n",
        "`,\n",
        "`\n",
        "  <img src=\"https://raw.githubusercontent.com/fbeilstein/presentations/master/images/back_prop/slide_15.jpg\" width=\"750px\">\n",
        "`,\n",
        "`\n",
        "  <img src=\"https://raw.githubusercontent.com/fbeilstein/presentations/master/images/back_prop/slide_16.jpg\" width=\"750px\">\n",
        "`,\n",
        "`\n",
        "  <img src=\"https://raw.githubusercontent.com/fbeilstein/presentations/master/images/back_prop/slide_17.jpg\" width=\"750px\">\n",
        "`,\n",
        "`\n",
        "  <img src=\"https://raw.githubusercontent.com/fbeilstein/presentations/master/images/back_prop/slide_18.jpg\" width=\"750px\">\n",
        "`,\n",
        "`\n",
        "  <img src=\"https://raw.githubusercontent.com/fbeilstein/presentations/master/images/back_prop/slide_19.jpg\" width=\"750px\">\n",
        "`,\n",
        "`\n",
        "  <img src=\"https://raw.githubusercontent.com/fbeilstein/presentations/master/images/back_prop/slide_20.jpg\" width=\"750px\">\n",
        "`\n",
        "  ]\n",
        ")\n",
        "</script>"
      ],
      "metadata": {
        "cellView": "form",
        "id": "xiu1zQMhR4V4",
        "outputId": "89a3df14-b136-4d5a-eeb0-4a66520fcdfd",
        "colab": {
          "base_uri": "https://localhost:8080/",
          "height": 644
        }
      },
      "execution_count": null,
      "outputs": [
        {
          "output_type": "display_data",
          "data": {
            "text/plain": [
              "<IPython.core.display.HTML object>"
            ],
            "text/html": [
              "<link rel=\"stylesheet\" href=\"https://fbeilstein.github.io/machine_learning/js_common/styles.css\"/>\n",
              "<script src=\"https://fbeilstein.github.io/machine_learning/js_common/script.js\"></script>\n",
              "<script>\n",
              "load_slides_from(\n",
              "[ \n",
              "`\n",
              "  <img src=\"https://raw.githubusercontent.com/fbeilstein/presentations/master/images/back_prop/slide_1.jpg\" width=\"750px\">\n",
              "`,\n",
              "`\n",
              "  <img src=\"https://raw.githubusercontent.com/fbeilstein/presentations/master/images/back_prop/slide_2.jpg\" width=\"750px\">\n",
              "`,\n",
              "`\n",
              "  <img src=\"https://raw.githubusercontent.com/fbeilstein/presentations/master/images/back_prop/slide_3.jpg\" width=\"750px\">\n",
              "`,\n",
              "`\n",
              "  <img src=\"https://raw.githubusercontent.com/fbeilstein/presentations/master/images/back_prop/slide_4.jpg\" width=\"750px\">\n",
              "`,\n",
              "`\n",
              "  <img src=\"https://raw.githubusercontent.com/fbeilstein/presentations/master/images/back_prop/slide_5.jpg\" width=\"750px\">\n",
              "`,\n",
              "`\n",
              "  <img src=\"https://raw.githubusercontent.com/fbeilstein/presentations/master/images/back_prop/slide_6.jpg\" width=\"750px\">\n",
              "`,\n",
              "`\n",
              "  <img src=\"https://raw.githubusercontent.com/fbeilstein/presentations/master/images/back_prop/slide_7.jpg\" width=\"750px\">\n",
              "`,\n",
              "`\n",
              "  <img src=\"https://raw.githubusercontent.com/fbeilstein/presentations/master/images/back_prop/slide_8.jpg\" width=\"750px\">\n",
              "`,\n",
              "`\n",
              "  <img src=\"https://raw.githubusercontent.com/fbeilstein/presentations/master/images/back_prop/slide_9.jpg\" width=\"750px\">\n",
              "`,\n",
              "`\n",
              "  <img src=\"https://raw.githubusercontent.com/fbeilstein/presentations/master/images/back_prop/slide_10.jpg\" width=\"750px\">\n",
              "`,\n",
              "`\n",
              "  <img src=\"https://raw.githubusercontent.com/fbeilstein/presentations/master/images/back_prop/slide_11.jpg\" width=\"750px\">\n",
              "`,\n",
              "`\n",
              "  <img src=\"https://raw.githubusercontent.com/fbeilstein/presentations/master/images/back_prop/slide_12.jpg\" width=\"750px\">\n",
              "`,\n",
              "`\n",
              "  <img src=\"https://raw.githubusercontent.com/fbeilstein/presentations/master/images/back_prop/slide_13.jpg\" width=\"750px\">\n",
              "`,\n",
              "`\n",
              "  <img src=\"https://raw.githubusercontent.com/fbeilstein/presentations/master/images/back_prop/slide_14.jpg\" width=\"750px\">\n",
              "`,\n",
              "`\n",
              "  <img src=\"https://raw.githubusercontent.com/fbeilstein/presentations/master/images/back_prop/slide_15.jpg\" width=\"750px\">\n",
              "`,\n",
              "`\n",
              "  <img src=\"https://raw.githubusercontent.com/fbeilstein/presentations/master/images/back_prop/slide_16.jpg\" width=\"750px\">\n",
              "`,\n",
              "`\n",
              "  <img src=\"https://raw.githubusercontent.com/fbeilstein/presentations/master/images/back_prop/slide_17.jpg\" width=\"750px\">\n",
              "`,\n",
              "`\n",
              "  <img src=\"https://raw.githubusercontent.com/fbeilstein/presentations/master/images/back_prop/slide_18.jpg\" width=\"750px\">\n",
              "`,\n",
              "`\n",
              "  <img src=\"https://raw.githubusercontent.com/fbeilstein/presentations/master/images/back_prop/slide_19.jpg\" width=\"750px\">\n",
              "`,\n",
              "`\n",
              "  <img src=\"https://raw.githubusercontent.com/fbeilstein/presentations/master/images/back_prop/slide_20.jpg\" width=\"750px\">\n",
              "`\n",
              "  ]\n",
              ")\n",
              "</script>\n"
            ]
          },
          "metadata": {}
        }
      ]
    },
    {
      "cell_type": "code",
      "source": [
        "#@title  ##Single neuron operation\n",
        "\n",
        "%%html\n",
        "<link rel=\"stylesheet\" href=\"https://fbeilstein.github.io/machine_learning/js_common/styles.css\"/>\n",
        "<script src=\"https://fbeilstein.github.io/machine_learning/js_common/script.js\"></script>\n",
        "<script>\n",
        "load_slides_from(\n",
        "[\n",
        "`<img src=\"https://raw.githubusercontent.com/fbeilstein/presentations/master/images/one_neuron_bp/forward.jpg\" width=\"750px\">`,\n",
        "`<img src=\"https://raw.githubusercontent.com/fbeilstein/presentations/master/images/one_neuron_bp/backward.jpg\" width=\"750px\">`,\n",
        "`<img src=\"https://raw.githubusercontent.com/fbeilstein/presentations/master/images/one_neuron_bp/backward_two_outs.jpg\" width=\"750px\">`\n",
        "  ]\n",
        ")\n",
        "</script>"
      ],
      "metadata": {
        "cellView": "form",
        "id": "9sfslw8jS-5F",
        "outputId": "ae49c16d-0b14-4884-ff6a-45a0c764a29e",
        "colab": {
          "base_uri": "https://localhost:8080/",
          "height": 438
        }
      },
      "execution_count": null,
      "outputs": [
        {
          "output_type": "display_data",
          "data": {
            "text/plain": [
              "<IPython.core.display.HTML object>"
            ],
            "text/html": [
              "<link rel=\"stylesheet\" href=\"https://fbeilstein.github.io/machine_learning/js_common/styles.css\"/>\n",
              "<script src=\"https://fbeilstein.github.io/machine_learning/js_common/script.js\"></script>\n",
              "<script>\n",
              "load_slides_from(\n",
              "[ \n",
              "`<img src=\"https://raw.githubusercontent.com/fbeilstein/presentations/master/images/one_neuron_bp/forward.jpg\" width=\"750px\">`,\n",
              "`<img src=\"https://raw.githubusercontent.com/fbeilstein/presentations/master/images/one_neuron_bp/backward.jpg\" width=\"750px\">`,\n",
              "`<img src=\"https://raw.githubusercontent.com/fbeilstein/presentations/master/images/one_neuron_bp/backward_two_outs.jpg\" width=\"750px\">`\n",
              "  ]\n",
              ")\n",
              "</script>\n"
            ]
          },
          "metadata": {}
        }
      ]
    },
    {
      "cell_type": "code",
      "source": [
        "#@title ##NN example\n",
        "\n",
        "%%html\n",
        "<link rel=\"stylesheet\" href=\"https://fbeilstein.github.io/machine_learning/js_common/styles.css\"/>\n",
        "<script src=\"https://fbeilstein.github.io/machine_learning/js_common/script.js\"></script>\n",
        "<script>\n",
        "load_slides_from(\n",
        "[\n",
        "`<img src=\"https://raw.githubusercontent.com/fbeilstein/presentations/master/images/nn_example/slide_1.jpg\" width=\"750px\">`,\n",
        "`<img src=\"https://raw.githubusercontent.com/fbeilstein/presentations/master/images/nn_example/slide_2.jpg\" width=\"750px\">`,\n",
        "`<img src=\"https://raw.githubusercontent.com/fbeilstein/presentations/master/images/nn_example/slide_3.jpg\" width=\"750px\">`,\n",
        "`<img src=\"https://raw.githubusercontent.com/fbeilstein/presentations/master/images/nn_example/slide_4.jpg\" width=\"750px\">`,\n",
        "`<img src=\"https://raw.githubusercontent.com/fbeilstein/presentations/master/images/nn_example/slide_5.jpg\" width=\"750px\">`,\n",
        "`<img src=\"https://raw.githubusercontent.com/fbeilstein/presentations/master/images/nn_example/slide_6.jpg\" width=\"750px\">`,\n",
        "`<img src=\"https://raw.githubusercontent.com/fbeilstein/presentations/master/images/nn_example/slide_7.jpg\" width=\"750px\">`,\n",
        "`<img src=\"https://raw.githubusercontent.com/fbeilstein/presentations/master/images/nn_example/slide_8.jpg\" width=\"750px\">`,\n",
        "`<img src=\"https://raw.githubusercontent.com/fbeilstein/presentations/master/images/nn_example/slide_9.jpg\" width=\"750px\">`,\n",
        "`<img src=\"https://raw.githubusercontent.com/fbeilstein/presentations/master/images/nn_example/slide_10.jpg\" width=\"750px\">`,\n",
        "`<img src=\"https://raw.githubusercontent.com/fbeilstein/presentations/master/images/nn_example/slide_11.jpg\" width=\"750px\">`,\n",
        "`<img src=\"https://raw.githubusercontent.com/fbeilstein/presentations/master/images/nn_example/slide_12.jpg\" width=\"750px\">`,\n",
        "`<img src=\"https://raw.githubusercontent.com/fbeilstein/presentations/master/images/nn_example/slide_13.jpg\" width=\"750px\">`,\n",
        "`<img src=\"https://raw.githubusercontent.com/fbeilstein/presentations/master/images/nn_example/slide_14.jpg\" width=\"750px\">`,\n",
        "`<img src=\"https://raw.githubusercontent.com/fbeilstein/presentations/master/images/nn_example/slide_15.jpg\" width=\"750px\">`,\n",
        "`<img src=\"https://raw.githubusercontent.com/fbeilstein/presentations/master/images/nn_example/slide_16.jpg\" width=\"750px\">`,\n",
        "`<img src=\"https://raw.githubusercontent.com/fbeilstein/presentations/master/images/nn_example/slide_17.jpg\" width=\"750px\">`,\n",
        "`<img src=\"https://raw.githubusercontent.com/fbeilstein/presentations/master/images/nn_example/slide_18.jpg\" width=\"750px\">`,\n",
        "`<img src=\"https://raw.githubusercontent.com/fbeilstein/presentations/master/images/nn_example/slide_19.jpg\" width=\"750px\">`,\n",
        "`<img src=\"https://raw.githubusercontent.com/fbeilstein/presentations/master/images/nn_example/slide_20.jpg\" width=\"750px\">`\n",
        "  ]\n",
        ")\n",
        "</script>"
      ],
      "metadata": {
        "cellView": "form",
        "id": "C-SPOkxaTt4J",
        "outputId": "3dd46f80-bf06-4136-fe02-b384fa44b8b7",
        "colab": {
          "base_uri": "https://localhost:8080/",
          "height": 644
        }
      },
      "execution_count": null,
      "outputs": [
        {
          "output_type": "display_data",
          "data": {
            "text/plain": [
              "<IPython.core.display.HTML object>"
            ],
            "text/html": [
              "<link rel=\"stylesheet\" href=\"https://fbeilstein.github.io/machine_learning/js_common/styles.css\"/>\n",
              "<script src=\"https://fbeilstein.github.io/machine_learning/js_common/script.js\"></script>\n",
              "<script>\n",
              "load_slides_from(\n",
              "[ \n",
              "`<img src=\"https://raw.githubusercontent.com/fbeilstein/presentations/master/images/nn_example/slide_1.jpg\" width=\"750px\">`,\n",
              "`<img src=\"https://raw.githubusercontent.com/fbeilstein/presentations/master/images/nn_example/slide_2.jpg\" width=\"750px\">`,\n",
              "`<img src=\"https://raw.githubusercontent.com/fbeilstein/presentations/master/images/nn_example/slide_3.jpg\" width=\"750px\">`,\n",
              "`<img src=\"https://raw.githubusercontent.com/fbeilstein/presentations/master/images/nn_example/slide_4.jpg\" width=\"750px\">`,\n",
              "`<img src=\"https://raw.githubusercontent.com/fbeilstein/presentations/master/images/nn_example/slide_5.jpg\" width=\"750px\">`,\n",
              "`<img src=\"https://raw.githubusercontent.com/fbeilstein/presentations/master/images/nn_example/slide_6.jpg\" width=\"750px\">`,\n",
              "`<img src=\"https://raw.githubusercontent.com/fbeilstein/presentations/master/images/nn_example/slide_7.jpg\" width=\"750px\">`,\n",
              "`<img src=\"https://raw.githubusercontent.com/fbeilstein/presentations/master/images/nn_example/slide_8.jpg\" width=\"750px\">`,\n",
              "`<img src=\"https://raw.githubusercontent.com/fbeilstein/presentations/master/images/nn_example/slide_9.jpg\" width=\"750px\">`,\n",
              "`<img src=\"https://raw.githubusercontent.com/fbeilstein/presentations/master/images/nn_example/slide_10.jpg\" width=\"750px\">`,\n",
              "`<img src=\"https://raw.githubusercontent.com/fbeilstein/presentations/master/images/nn_example/slide_11.jpg\" width=\"750px\">`,\n",
              "`<img src=\"https://raw.githubusercontent.com/fbeilstein/presentations/master/images/nn_example/slide_12.jpg\" width=\"750px\">`,\n",
              "`<img src=\"https://raw.githubusercontent.com/fbeilstein/presentations/master/images/nn_example/slide_13.jpg\" width=\"750px\">`,\n",
              "`<img src=\"https://raw.githubusercontent.com/fbeilstein/presentations/master/images/nn_example/slide_14.jpg\" width=\"750px\">`,\n",
              "`<img src=\"https://raw.githubusercontent.com/fbeilstein/presentations/master/images/nn_example/slide_15.jpg\" width=\"750px\">`,\n",
              "`<img src=\"https://raw.githubusercontent.com/fbeilstein/presentations/master/images/nn_example/slide_16.jpg\" width=\"750px\">`,\n",
              "`<img src=\"https://raw.githubusercontent.com/fbeilstein/presentations/master/images/nn_example/slide_17.jpg\" width=\"750px\">`,\n",
              "`<img src=\"https://raw.githubusercontent.com/fbeilstein/presentations/master/images/nn_example/slide_18.jpg\" width=\"750px\">`,\n",
              "`<img src=\"https://raw.githubusercontent.com/fbeilstein/presentations/master/images/nn_example/slide_19.jpg\" width=\"750px\">`,\n",
              "`<img src=\"https://raw.githubusercontent.com/fbeilstein/presentations/master/images/nn_example/slide_20.jpg\" width=\"750px\">`\n",
              "  ]\n",
              ")\n",
              "</script>\n"
            ]
          },
          "metadata": {}
        }
      ]
    },
    {
      "cell_type": "markdown",
      "source": [
        "# Example SimpleRandomNet"
      ],
      "metadata": {
        "id": "lzY2VuKw9qMJ"
      }
    },
    {
      "cell_type": "code",
      "source": [
        "from sklearn.datasets import load_digits\n",
        "from sklearn.model_selection import train_test_split\n",
        "from tensorflow.keras.utils import to_categorical\n",
        "import numpy as np\n",
        "import matplotlib.pyplot as plt\n",
        "\n",
        "digits = load_digits()\n",
        "X_all = (digits.data.reshape(digits.data.shape[0], 8, 8, 1) / 16.0).astype(float)  # / 256.0\n",
        "\n",
        "X_train, X_test, y_train, y_test =  train_test_split(X_all,\n",
        "                                                     digits.target,\n",
        "                                                     train_size=0.75,\n",
        "                                                     shuffle=True)\n",
        "y_train, y_test = to_categorical(y_train), to_categorical(y_test)\n",
        "\n",
        "def plot_digits(data):\n",
        "  fig, ax = plt.subplots(10, 10, figsize=(8, 8), subplot_kw=dict(xticks=[], yticks=[]))\n",
        "  fig.subplots_adjust(hspace=0.05, wspace=0.05)\n",
        "  for i, axi in enumerate(ax.flat):\n",
        "    im = axi.imshow(data[i,:,:,0], cmap='binary')\n",
        "  im.set_clim(0, 16)\n",
        "\n",
        "plot_digits(X_train)\n",
        "print(X_train.shape, y_train.shape, np.max(X_train))\n",
        "X_trainT = torch.tensor(np.transpose(X_train, (0, 3, 1, 2)), dtype=torch.float32)\n",
        "y_trainT = torch.tensor(y_train, dtype=torch.float32)\n",
        "X_testT = torch.tensor(np.transpose(X_test, (0, 3, 1, 2)), dtype=torch.float32)\n",
        "y_testT = torch.tensor(y_test, dtype=torch.float32)"
      ],
      "metadata": {
        "colab": {
          "base_uri": "https://localhost:8080/",
          "height": 670
        },
        "id": "sMgclUUh9tUH",
        "outputId": "0d4a971d-268f-486e-e9ab-69a68ad538e3"
      },
      "execution_count": 118,
      "outputs": [
        {
          "output_type": "stream",
          "name": "stdout",
          "text": [
            "(1347, 8, 8, 1) (1347, 10) 1.0\n"
          ]
        },
        {
          "output_type": "display_data",
          "data": {
            "text/plain": [
              "<Figure size 800x800 with 100 Axes>"
            ],
            "image/png": "[encoded data removed]"
          },
          "metadata": {}
        }
      ]
    },
    {
      "cell_type": "markdown",
      "source": [
        "**Categorical cross-entropy** loss function $L$ is computed as follows\n",
        "$$\n",
        "L = \\sum_i t_i \\ln(s_i),\n",
        "$$\n",
        "where $t_i$ are truth values and $s_i$ are **softmax** outputs\n",
        "$$\n",
        "\\sigma(\\mathbf{z})_i = \\frac{e^{z_i}}{\\sum_{j=1}^K e^{z_j}} \\text{ for } i = 1, \\dotsc, K \\text{ and } \\mathbf{z} = (z_1, \\dotsc, z_K) \\in \\mathbb{R}^K.\n",
        "$$\n",
        "In our case $t_i$ are either $0$ or $1$ (see `to_categorical` function). We may have used `sparse_crossentropy`, same function different class encoding."
      ],
      "metadata": {
        "id": "qIG1FeKuqj_R"
      }
    },
    {
      "cell_type": "code",
      "source": [
        "import seaborn as sns; sns.set()\n",
        "from sklearn.metrics import confusion_matrix\n",
        "confusion_matrix(np.argmax(y_test, axis=1), #true\n",
        "                 np.argmax(model.predict(X_test), axis=1)   #predicted\n",
        "                )"
      ],
      "metadata": {
        "colab": {
          "base_uri": "https://localhost:8080/"
        },
        "id": "lTOtu97vnY99",
        "outputId": "03468e94-4721-4e66-ce38-90b59caed35c"
      },
      "execution_count": null,
      "outputs": [
        {
          "output_type": "stream",
          "name": "stdout",
          "text": [
            "\u001b[1m15/15\u001b[0m \u001b[32m━━━━━━━━━━━━━━━━━━━━\u001b[0m\u001b[37m\u001b[0m \u001b[1m0s\u001b[0m 3ms/step \n"
          ]
        },
        {
          "output_type": "execute_result",
          "data": {
            "text/plain": [
              "array([[43,  0,  1,  0,  0,  0,  0,  0,  0,  0],\n",
              "       [ 0, 50,  0,  0,  0,  0,  1,  0,  0,  0],\n",
              "       [ 0,  0, 41,  1,  0,  0,  0,  0,  0,  0],\n",
              "       [ 0,  0,  0, 35,  0,  0,  0,  0,  0,  0],\n",
              "       [ 0,  0,  0,  0, 48,  0,  0,  0,  0,  0],\n",
              "       [ 0,  0,  1,  0,  0, 43,  0,  0,  0,  1],\n",
              "       [ 0,  0,  0,  0,  0,  0, 47,  0,  0,  0],\n",
              "       [ 0,  0,  0,  1,  2,  0,  0, 36,  1,  1],\n",
              "       [ 0,  1,  0,  1,  0,  1,  0,  0, 52,  0],\n",
              "       [ 0,  0,  0,  0,  0,  0,  0,  0,  1, 41]])"
            ]
          },
          "metadata": {},
          "execution_count": 22
        }
      ]
    },
    {
      "cell_type": "code",
      "source": [
        "import torch\n",
        "import torch.nn as nn\n",
        "import torch.nn.functional as F\n",
        "from torchsummary import summary\n",
        "\n",
        "class RandNet(nn.Module):\n",
        "  def __init__(self, input_shape, nb_classes):\n",
        "    super(RandNet, self).__init__()\n",
        "    self._out_channels = 6\n",
        "    self._conv = nn.Conv2d(in_channels=1, out_channels=self._out_channels, kernel_size=3, padding=1, stride=1)\n",
        "    self._pool = nn.AvgPool2d(kernel_size=2, stride=2)\n",
        "    self._flatten = nn.Flatten()\n",
        "    self._fc = nn.Linear(input_shape[1] // 2 * input_shape[2] // 2 * self._out_channels, nb_classes)\n",
        "\n",
        "  def forward(self, x):\n",
        "    conv_out = torch.tanh(self._conv(x))\n",
        "    pool_out = self._pool(conv_out)\n",
        "    flat_out = self._flatten(pool_out)\n",
        "    out = F.softmax(self._fc(flat_out), dim=1)\n",
        "    return conv_out, pool_out, flat_out, out\n",
        "\n",
        "model = RandNet(X_trainT[0].shape, 10)\n",
        "summary(model, input_size=X_trainT[0].shape)"
      ],
      "metadata": {
        "id": "QKvH05edbGT-",
        "outputId": "1b8c2598-301f-4523-92a5-3fabaf7d375b",
        "colab": {
          "base_uri": "https://localhost:8080/"
        }
      },
      "execution_count": 119,
      "outputs": [
        {
          "output_type": "stream",
          "name": "stdout",
          "text": [
            "----------------------------------------------------------------\n",
            "        Layer (type)               Output Shape         Param #\n",
            "================================================================\n",
            "            Conv2d-1              [-1, 6, 8, 8]              60\n",
            "         AvgPool2d-2              [-1, 6, 4, 4]               0\n",
            "           Flatten-3                   [-1, 96]               0\n",
            "            Linear-4                   [-1, 10]             970\n",
            "================================================================\n",
            "Total params: 1,030\n",
            "Trainable params: 1,030\n",
            "Non-trainable params: 0\n",
            "----------------------------------------------------------------\n",
            "Input size (MB): 0.00\n",
            "Forward/backward pass size (MB): 0.00\n",
            "Params size (MB): 0.00\n",
            "Estimated Total Size (MB): 0.01\n",
            "----------------------------------------------------------------\n"
          ]
        }
      ]
    },
    {
      "cell_type": "code",
      "source": [
        "import torch.optim as optim\n",
        "\n",
        "criterion = nn.CrossEntropyLoss()  # Example for classification tasks\n",
        "optimizer = optim.Adam(model.parameters(), lr=0.001)\n",
        "\n",
        "# Training loop\n",
        "num_epochs = 4000\n",
        "for epoch in range(num_epochs):\n",
        "  model.train()\n",
        "  optimizer.zero_grad()\n",
        "  _, _, _, outputs = model(X_trainT)\n",
        "  loss = criterion(outputs, y_trainT)\n",
        "  loss.backward()\n",
        "  optimizer.step()\n",
        "  epoch_loss = loss.item()\n",
        "  if epoch % 100 == 0:\n",
        "    print(f\"Epoch {epoch+1}/{num_epochs}, Loss: {epoch_loss:.4f}\")"
      ],
      "metadata": {
        "id": "ZBSQqFPcpFjJ",
        "outputId": "b8563094-4fe3-46d5-f4f9-53b779af9e18",
        "colab": {
          "base_uri": "https://localhost:8080/"
        }
      },
      "execution_count": 120,
      "outputs": [
        {
          "output_type": "stream",
          "name": "stdout",
          "text": [
            "Epoch 1/4000, Loss: 2.3028\n",
            "Epoch 101/4000, Loss: 2.1793\n",
            "Epoch 201/4000, Loss: 1.8551\n",
            "Epoch 301/4000, Loss: 1.7240\n",
            "Epoch 401/4000, Loss: 1.6692\n",
            "Epoch 501/4000, Loss: 1.6397\n",
            "Epoch 601/4000, Loss: 1.6223\n",
            "Epoch 701/4000, Loss: 1.6026\n",
            "Epoch 801/4000, Loss: 1.5526\n",
            "Epoch 901/4000, Loss: 1.5382\n",
            "Epoch 1001/4000, Loss: 1.5288\n",
            "Epoch 1101/4000, Loss: 1.5218\n",
            "Epoch 1201/4000, Loss: 1.5162\n",
            "Epoch 1301/4000, Loss: 1.5116\n",
            "Epoch 1401/4000, Loss: 1.5076\n",
            "Epoch 1501/4000, Loss: 1.5041\n",
            "Epoch 1601/4000, Loss: 1.5009\n",
            "Epoch 1701/4000, Loss: 1.4981\n",
            "Epoch 1801/4000, Loss: 1.4955\n",
            "Epoch 1901/4000, Loss: 1.4932\n",
            "Epoch 2001/4000, Loss: 1.4910\n",
            "Epoch 2101/4000, Loss: 1.4890\n",
            "Epoch 2201/4000, Loss: 1.4871\n",
            "Epoch 2301/4000, Loss: 1.4854\n",
            "Epoch 2401/4000, Loss: 1.4838\n",
            "Epoch 2501/4000, Loss: 1.4823\n",
            "Epoch 2601/4000, Loss: 1.4809\n",
            "Epoch 2701/4000, Loss: 1.4797\n",
            "Epoch 2801/4000, Loss: 1.4786\n",
            "Epoch 2901/4000, Loss: 1.4775\n",
            "Epoch 3001/4000, Loss: 1.4765\n",
            "Epoch 3101/4000, Loss: 1.4755\n",
            "Epoch 3201/4000, Loss: 1.4746\n",
            "Epoch 3301/4000, Loss: 1.4737\n",
            "Epoch 3401/4000, Loss: 1.4730\n",
            "Epoch 3501/4000, Loss: 1.4723\n",
            "Epoch 3601/4000, Loss: 1.4717\n",
            "Epoch 3701/4000, Loss: 1.4712\n",
            "Epoch 3801/4000, Loss: 1.4708\n",
            "Epoch 3901/4000, Loss: 1.4704\n"
          ]
        }
      ]
    },
    {
      "cell_type": "code",
      "source": [
        "# Get intermediate outputs\n",
        "conv_out, pool_out, flat_out, model_out = model(X_trainT)\n",
        "\n",
        "print(\"Convolution Output:\", conv_out.shape)\n",
        "print(\"Pooling Output:\", pool_out.shape)\n",
        "print(\"Flatten Output:\", flat_out.shape)\n",
        "print(\"Final Output:\", model_out.shape)"
      ],
      "metadata": {
        "id": "FXP8AXYdbwNc",
        "outputId": "8d7ad49d-879f-414c-ec18-6ee99a539cb7",
        "colab": {
          "base_uri": "https://localhost:8080/"
        }
      },
      "execution_count": 121,
      "outputs": [
        {
          "output_type": "stream",
          "name": "stdout",
          "text": [
            "Convolution Output: torch.Size([1347, 6, 8, 8])\n",
            "Pooling Output: torch.Size([1347, 6, 4, 4])\n",
            "Flatten Output: torch.Size([1347, 96])\n",
            "Final Output: torch.Size([1347, 10])\n"
          ]
        }
      ]
    },
    {
      "cell_type": "code",
      "source": [
        "validation_loader = torch.utils.data.DataLoader(dataset=list(zip(X_testT, y_testT)), batch_size=batch_size, shuffle=False)\n",
        "\n",
        "def validate_model(model, validation_loader, criterion):\n",
        "    model.eval()  # Set model to evaluation mode\n",
        "    val_loss = 0.0\n",
        "    correct_predictions = 0\n",
        "    total_samples = 0\n",
        "\n",
        "    with torch.no_grad():  # Disable gradient computation\n",
        "        for inputs, labels in validation_loader:\n",
        "            # Forward pass\n",
        "            _, _, _, outputs = model(inputs)\n",
        "\n",
        "            # Calculate the loss\n",
        "            loss = criterion(outputs, labels.argmax(dim=1))\n",
        "            val_loss += loss.item()\n",
        "\n",
        "            # Calculate the number of correct predictions\n",
        "            predicted = torch.argmax(outputs, dim=1)\n",
        "            correct_predictions += (predicted == labels.argmax(dim=1)).sum().item()\n",
        "            total_samples += labels.size(0)\n",
        "\n",
        "    # Calculate average loss and accuracy\n",
        "    avg_loss = val_loss / len(validation_loader)\n",
        "    accuracy = correct_predictions / total_samples\n",
        "    print(f'Validation Loss: {avg_loss:.4f}, Accuracy: {accuracy:.4f}')\n",
        "    return avg_loss, accuracy\n",
        "\n",
        "validate_model(model, validation_loader, criterion)"
      ],
      "metadata": {
        "id": "mNtZPy9vsjgY",
        "outputId": "6ae17e89-b218-4eb2-9196-22bccb14c158",
        "colab": {
          "base_uri": "https://localhost:8080/"
        }
      },
      "execution_count": 122,
      "outputs": [
        {
          "output_type": "stream",
          "name": "stdout",
          "text": [
            "Validation Loss: 1.4953, Accuracy: 0.9711\n"
          ]
        },
        {
          "output_type": "execute_result",
          "data": {
            "text/plain": [
              "(1.4952564984560013, 0.9711111111111111)"
            ]
          },
          "metadata": {},
          "execution_count": 122
        }
      ]
    },
    {
      "cell_type": "code",
      "source": [
        "import seaborn as sns; sns.set()\n",
        "from sklearn.metrics import confusion_matrix\n",
        "confusion_matrix(np.argmax(y_test, axis=1), #true\n",
        "                 np.argmax(model.predict(X_test), axis=1)   #predicted\n",
        "                )"
      ],
      "metadata": {
        "id": "d_A3R7ZHeu7V"
      },
      "execution_count": null,
      "outputs": []
    },
    {
      "cell_type": "code",
      "source": [
        "idx = 0\n",
        "conv_outs, pool_outs, flat_outs, outputs = model(X_trainT)\n",
        "\n",
        "print(\"INPUT:\")\n",
        "fig, ax = plt.subplots(1, 1, figsize=(1, 1), subplot_kw=dict(xticks=[], yticks=[]))\n",
        "ax.imshow(np.transpose(X_trainT[idx], (1, 2, 0)), cmap='binary')\n",
        "plt.show()\n",
        "\n",
        "print('CONVOLUTION:')\n",
        "fig, ax = plt.subplots(1, 6, figsize=(6, 1), subplot_kw=dict(xticks=[], yticks=[]))\n",
        "fig.subplots_adjust(hspace=0.05, wspace=0.05)\n",
        "for i, axi in enumerate(ax.flat):\n",
        "  axi.imshow(conv_outs.detach().numpy()[idx, i, :, :], cmap='binary')\n",
        "plt.show()\n",
        "\n",
        "print('AVERAGE POOL:')\n",
        "fig, ax = plt.subplots(1, 6, figsize=(6, 1), subplot_kw=dict(xticks=[], yticks=[]))\n",
        "fig.subplots_adjust(hspace=0.05, wspace=0.05)\n",
        "for i, axi in enumerate(ax.flat):\n",
        "  axi.imshow(pool_outs.detach().numpy()[idx, i, :, :], cmap='binary')\n",
        "plt.show()\n",
        "\n",
        "print('OUTPUT:')\n",
        "bin_edges = [x - 0.5 for x in range(11)]\n",
        "bar_heights = outputs[idx].detach().numpy()\n",
        "bar_widths = [1] * 10\n",
        "plt.bar(bin_edges[:-1], bar_heights, width=bar_widths, align='edge', edgecolor='black')\n",
        "plt.xlabel('Numbers')\n",
        "plt.ylabel('Probabilities')\n",
        "plt.show()"
      ],
      "metadata": {
        "colab": {
          "base_uri": "https://localhost:8080/",
          "height": 803
        },
        "id": "NaVN8MbXmB6E",
        "outputId": "ce5cad21-9ebe-4f7a-ae0a-0fa9510cba4c"
      },
      "execution_count": 145,
      "outputs": [
        {
          "output_type": "stream",
          "name": "stdout",
          "text": [
            "INPUT:\n"
          ]
        },
        {
          "output_type": "display_data",
          "data": {
            "text/plain": [
              "<Figure size 100x100 with 1 Axes>"
            ],
            "image/png": "[encoded data removed]"
          },
          "metadata": {}
        },
        {
          "output_type": "stream",
          "name": "stdout",
          "text": [
            "CONVOLUTION:\n"
          ]
        },
        {
          "output_type": "display_data",
          "data": {
            "text/plain": [
              "<Figure size 600x100 with 6 Axes>"
            ],
            "image/png": "[encoded data removed]"
          },
          "metadata": {}
        },
        {
          "output_type": "stream",
          "name": "stdout",
          "text": [
            "AVERAGE POOL:\n"
          ]
        },
        {
          "output_type": "display_data",
          "data": {
            "text/plain": [
              "<Figure size 600x100 with 6 Axes>"
            ],
            "image/png": "[encoded data removed]"
          },
          "metadata": {}
        },
        {
          "output_type": "stream",
          "name": "stdout",
          "text": [
            "OUTPUT:\n"
          ]
        },
        {
          "output_type": "display_data",
          "data": {
            "text/plain": [
              "<Figure size 640x480 with 1 Axes>"
            ],
            "image/png": "[encoded data removed]"
          },
          "metadata": {}
        }
      ]
    }
  ]
}