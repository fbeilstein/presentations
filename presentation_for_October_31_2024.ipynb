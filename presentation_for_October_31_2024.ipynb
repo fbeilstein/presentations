{
  "nbformat": 4,
  "nbformat_minor": 0,
  "metadata": {
    "colab": {
      "provenance": [],
      "authorship_tag": "ABX9TyP3JJLT6eY6myQ5htoBNWXX",
      "include_colab_link": true
    },
    "kernelspec": {
      "name": "python3",
      "display_name": "Python 3"
    },
    "language_info": {
      "name": "python"
    }
  },
  "cells": [
    {
      "cell_type": "markdown",
      "metadata": {
        "id": "view-in-github",
        "colab_type": "text"
      },
      "source": [
        "<a href=\"https://colab.research.google.com/github/fbeilstein/presentations/blob/master/presentation_for_October_31_2024.ipynb\" target=\"_parent\"><img src=\"https://colab.research.google.com/assets/colab-badge.svg\" alt=\"Open In Colab\"/></a>"
      ]
    },
    {
      "cell_type": "code",
      "source": [
        "#@title ##Back propagation (how to get gradient)\n",
        "\n",
        "%%html\n",
        "<link rel=\"stylesheet\" href=\"https://fbeilstein.github.io/machine_learning/js_common/styles.css\"/>\n",
        "<script src=\"https://fbeilstein.github.io/machine_learning/js_common/script.js\"></script>\n",
        "<script>\n",
        "load_slides_from(\n",
        "[\n",
        "`\n",
        "  <img src=\"https://raw.githubusercontent.com/fbeilstein/presentations/master/images/back_prop/slide_1.jpg\" width=\"750px\">\n",
        "`,\n",
        "`\n",
        "  <img src=\"https://raw.githubusercontent.com/fbeilstein/presentations/master/images/back_prop/slide_2.jpg\" width=\"750px\">\n",
        "`,\n",
        "`\n",
        "  <img src=\"https://raw.githubusercontent.com/fbeilstein/presentations/master/images/back_prop/slide_3.jpg\" width=\"750px\">\n",
        "`,\n",
        "`\n",
        "  <img src=\"https://raw.githubusercontent.com/fbeilstein/presentations/master/images/back_prop/slide_4.jpg\" width=\"750px\">\n",
        "`,\n",
        "`\n",
        "  <img src=\"https://raw.githubusercontent.com/fbeilstein/presentations/master/images/back_prop/slide_5.jpg\" width=\"750px\">\n",
        "`,\n",
        "`\n",
        "  <img src=\"https://raw.githubusercontent.com/fbeilstein/presentations/master/images/back_prop/slide_6.jpg\" width=\"750px\">\n",
        "`,\n",
        "`\n",
        "  <img src=\"https://raw.githubusercontent.com/fbeilstein/presentations/master/images/back_prop/slide_7.jpg\" width=\"750px\">\n",
        "`,\n",
        "`\n",
        "  <img src=\"https://raw.githubusercontent.com/fbeilstein/presentations/master/images/back_prop/slide_8.jpg\" width=\"750px\">\n",
        "`,\n",
        "`\n",
        "  <img src=\"https://raw.githubusercontent.com/fbeilstein/presentations/master/images/back_prop/slide_9.jpg\" width=\"750px\">\n",
        "`,\n",
        "`\n",
        "  <img src=\"https://raw.githubusercontent.com/fbeilstein/presentations/master/images/back_prop/slide_10.jpg\" width=\"750px\">\n",
        "`,\n",
        "`\n",
        "  <img src=\"https://raw.githubusercontent.com/fbeilstein/presentations/master/images/back_prop/slide_11.jpg\" width=\"750px\">\n",
        "`,\n",
        "`\n",
        "  <img src=\"https://raw.githubusercontent.com/fbeilstein/presentations/master/images/back_prop/slide_12.jpg\" width=\"750px\">\n",
        "`,\n",
        "`\n",
        "  <img src=\"https://raw.githubusercontent.com/fbeilstein/presentations/master/images/back_prop/slide_13.jpg\" width=\"750px\">\n",
        "`,\n",
        "`\n",
        "  <img src=\"https://raw.githubusercontent.com/fbeilstein/presentations/master/images/back_prop/slide_14.jpg\" width=\"750px\">\n",
        "`,\n",
        "`\n",
        "  <img src=\"https://raw.githubusercontent.com/fbeilstein/presentations/master/images/back_prop/slide_15.jpg\" width=\"750px\">\n",
        "`,\n",
        "`\n",
        "  <img src=\"https://raw.githubusercontent.com/fbeilstein/presentations/master/images/back_prop/slide_16.jpg\" width=\"750px\">\n",
        "`,\n",
        "`\n",
        "  <img src=\"https://raw.githubusercontent.com/fbeilstein/presentations/master/images/back_prop/slide_17.jpg\" width=\"750px\">\n",
        "`,\n",
        "`\n",
        "  <img src=\"https://raw.githubusercontent.com/fbeilstein/presentations/master/images/back_prop/slide_18.jpg\" width=\"750px\">\n",
        "`,\n",
        "`\n",
        "  <img src=\"https://raw.githubusercontent.com/fbeilstein/presentations/master/images/back_prop/slide_19.jpg\" width=\"750px\">\n",
        "`,\n",
        "`\n",
        "  <img src=\"https://raw.githubusercontent.com/fbeilstein/presentations/master/images/back_prop/slide_20.jpg\" width=\"750px\">\n",
        "`\n",
        "  ]\n",
        ")\n",
        "</script>"
      ],
      "metadata": {
        "cellView": "form",
        "id": "xiu1zQMhR4V4",
        "outputId": "89a3df14-b136-4d5a-eeb0-4a66520fcdfd",
        "colab": {
          "base_uri": "https://localhost:8080/",
          "height": 644
        }
      },
      "execution_count": 1,
      "outputs": [
        {
          "output_type": "display_data",
          "data": {
            "text/plain": [
              "<IPython.core.display.HTML object>"
            ],
            "text/html": [
              "<link rel=\"stylesheet\" href=\"https://fbeilstein.github.io/machine_learning/js_common/styles.css\"/>\n",
              "<script src=\"https://fbeilstein.github.io/machine_learning/js_common/script.js\"></script>\n",
              "<script>\n",
              "load_slides_from(\n",
              "[ \n",
              "`\n",
              "  <img src=\"https://raw.githubusercontent.com/fbeilstein/presentations/master/images/back_prop/slide_1.jpg\" width=\"750px\">\n",
              "`,\n",
              "`\n",
              "  <img src=\"https://raw.githubusercontent.com/fbeilstein/presentations/master/images/back_prop/slide_2.jpg\" width=\"750px\">\n",
              "`,\n",
              "`\n",
              "  <img src=\"https://raw.githubusercontent.com/fbeilstein/presentations/master/images/back_prop/slide_3.jpg\" width=\"750px\">\n",
              "`,\n",
              "`\n",
              "  <img src=\"https://raw.githubusercontent.com/fbeilstein/presentations/master/images/back_prop/slide_4.jpg\" width=\"750px\">\n",
              "`,\n",
              "`\n",
              "  <img src=\"https://raw.githubusercontent.com/fbeilstein/presentations/master/images/back_prop/slide_5.jpg\" width=\"750px\">\n",
              "`,\n",
              "`\n",
              "  <img src=\"https://raw.githubusercontent.com/fbeilstein/presentations/master/images/back_prop/slide_6.jpg\" width=\"750px\">\n",
              "`,\n",
              "`\n",
              "  <img src=\"https://raw.githubusercontent.com/fbeilstein/presentations/master/images/back_prop/slide_7.jpg\" width=\"750px\">\n",
              "`,\n",
              "`\n",
              "  <img src=\"https://raw.githubusercontent.com/fbeilstein/presentations/master/images/back_prop/slide_8.jpg\" width=\"750px\">\n",
              "`,\n",
              "`\n",
              "  <img src=\"https://raw.githubusercontent.com/fbeilstein/presentations/master/images/back_prop/slide_9.jpg\" width=\"750px\">\n",
              "`,\n",
              "`\n",
              "  <img src=\"https://raw.githubusercontent.com/fbeilstein/presentations/master/images/back_prop/slide_10.jpg\" width=\"750px\">\n",
              "`,\n",
              "`\n",
              "  <img src=\"https://raw.githubusercontent.com/fbeilstein/presentations/master/images/back_prop/slide_11.jpg\" width=\"750px\">\n",
              "`,\n",
              "`\n",
              "  <img src=\"https://raw.githubusercontent.com/fbeilstein/presentations/master/images/back_prop/slide_12.jpg\" width=\"750px\">\n",
              "`,\n",
              "`\n",
              "  <img src=\"https://raw.githubusercontent.com/fbeilstein/presentations/master/images/back_prop/slide_13.jpg\" width=\"750px\">\n",
              "`,\n",
              "`\n",
              "  <img src=\"https://raw.githubusercontent.com/fbeilstein/presentations/master/images/back_prop/slide_14.jpg\" width=\"750px\">\n",
              "`,\n",
              "`\n",
              "  <img src=\"https://raw.githubusercontent.com/fbeilstein/presentations/master/images/back_prop/slide_15.jpg\" width=\"750px\">\n",
              "`,\n",
              "`\n",
              "  <img src=\"https://raw.githubusercontent.com/fbeilstein/presentations/master/images/back_prop/slide_16.jpg\" width=\"750px\">\n",
              "`,\n",
              "`\n",
              "  <img src=\"https://raw.githubusercontent.com/fbeilstein/presentations/master/images/back_prop/slide_17.jpg\" width=\"750px\">\n",
              "`,\n",
              "`\n",
              "  <img src=\"https://raw.githubusercontent.com/fbeilstein/presentations/master/images/back_prop/slide_18.jpg\" width=\"750px\">\n",
              "`,\n",
              "`\n",
              "  <img src=\"https://raw.githubusercontent.com/fbeilstein/presentations/master/images/back_prop/slide_19.jpg\" width=\"750px\">\n",
              "`,\n",
              "`\n",
              "  <img src=\"https://raw.githubusercontent.com/fbeilstein/presentations/master/images/back_prop/slide_20.jpg\" width=\"750px\">\n",
              "`\n",
              "  ]\n",
              ")\n",
              "</script>\n"
            ]
          },
          "metadata": {}
        }
      ]
    },
    {
      "cell_type": "code",
      "source": [
        "#@title  ##Single neuron operation\n",
        "\n",
        "%%html\n",
        "<link rel=\"stylesheet\" href=\"https://fbeilstein.github.io/machine_learning/js_common/styles.css\"/>\n",
        "<script src=\"https://fbeilstein.github.io/machine_learning/js_common/script.js\"></script>\n",
        "<script>\n",
        "load_slides_from(\n",
        "[\n",
        "`<img src=\"https://raw.githubusercontent.com/fbeilstein/presentations/master/images/one_neuron_bp/forward.jpg\" width=\"750px\">`,\n",
        "`<img src=\"https://raw.githubusercontent.com/fbeilstein/presentations/master/images/one_neuron_bp/backward.jpg\" width=\"750px\">`,\n",
        "`<img src=\"https://raw.githubusercontent.com/fbeilstein/presentations/master/images/one_neuron_bp/backward_two_outs.jpg\" width=\"750px\">`\n",
        "  ]\n",
        ")\n",
        "</script>"
      ],
      "metadata": {
        "cellView": "form",
        "id": "9sfslw8jS-5F",
        "outputId": "ae49c16d-0b14-4884-ff6a-45a0c764a29e",
        "colab": {
          "base_uri": "https://localhost:8080/",
          "height": 438
        }
      },
      "execution_count": 2,
      "outputs": [
        {
          "output_type": "display_data",
          "data": {
            "text/plain": [
              "<IPython.core.display.HTML object>"
            ],
            "text/html": [
              "<link rel=\"stylesheet\" href=\"https://fbeilstein.github.io/machine_learning/js_common/styles.css\"/>\n",
              "<script src=\"https://fbeilstein.github.io/machine_learning/js_common/script.js\"></script>\n",
              "<script>\n",
              "load_slides_from(\n",
              "[ \n",
              "`<img src=\"https://raw.githubusercontent.com/fbeilstein/presentations/master/images/one_neuron_bp/forward.jpg\" width=\"750px\">`,\n",
              "`<img src=\"https://raw.githubusercontent.com/fbeilstein/presentations/master/images/one_neuron_bp/backward.jpg\" width=\"750px\">`,\n",
              "`<img src=\"https://raw.githubusercontent.com/fbeilstein/presentations/master/images/one_neuron_bp/backward_two_outs.jpg\" width=\"750px\">`\n",
              "  ]\n",
              ")\n",
              "</script>\n"
            ]
          },
          "metadata": {}
        }
      ]
    },
    {
      "cell_type": "code",
      "source": [
        "#@title ##NN example\n",
        "\n",
        "%%html\n",
        "<link rel=\"stylesheet\" href=\"https://fbeilstein.github.io/machine_learning/js_common/styles.css\"/>\n",
        "<script src=\"https://fbeilstein.github.io/machine_learning/js_common/script.js\"></script>\n",
        "<script>\n",
        "load_slides_from(\n",
        "[\n",
        "`<img src=\"https://raw.githubusercontent.com/fbeilstein/presentations/master/images/nn_example/slide_1.jpg\" width=\"750px\">`,\n",
        "`<img src=\"https://raw.githubusercontent.com/fbeilstein/presentations/master/images/nn_example/slide_2.jpg\" width=\"750px\">`,\n",
        "`<img src=\"https://raw.githubusercontent.com/fbeilstein/presentations/master/images/nn_example/slide_3.jpg\" width=\"750px\">`,\n",
        "`<img src=\"https://raw.githubusercontent.com/fbeilstein/presentations/master/images/nn_example/slide_4.jpg\" width=\"750px\">`,\n",
        "`<img src=\"https://raw.githubusercontent.com/fbeilstein/presentations/master/images/nn_example/slide_5.jpg\" width=\"750px\">`,\n",
        "`<img src=\"https://raw.githubusercontent.com/fbeilstein/presentations/master/images/nn_example/slide_6.jpg\" width=\"750px\">`,\n",
        "`<img src=\"https://raw.githubusercontent.com/fbeilstein/presentations/master/images/nn_example/slide_7.jpg\" width=\"750px\">`,\n",
        "`<img src=\"https://raw.githubusercontent.com/fbeilstein/presentations/master/images/nn_example/slide_8.jpg\" width=\"750px\">`,\n",
        "`<img src=\"https://raw.githubusercontent.com/fbeilstein/presentations/master/images/nn_example/slide_9.jpg\" width=\"750px\">`,\n",
        "`<img src=\"https://raw.githubusercontent.com/fbeilstein/presentations/master/images/nn_example/slide_10.jpg\" width=\"750px\">`,\n",
        "`<img src=\"https://raw.githubusercontent.com/fbeilstein/presentations/master/images/nn_example/slide_11.jpg\" width=\"750px\">`,\n",
        "`<img src=\"https://raw.githubusercontent.com/fbeilstein/presentations/master/images/nn_example/slide_12.jpg\" width=\"750px\">`,\n",
        "`<img src=\"https://raw.githubusercontent.com/fbeilstein/presentations/master/images/nn_example/slide_13.jpg\" width=\"750px\">`,\n",
        "`<img src=\"https://raw.githubusercontent.com/fbeilstein/presentations/master/images/nn_example/slide_14.jpg\" width=\"750px\">`,\n",
        "`<img src=\"https://raw.githubusercontent.com/fbeilstein/presentations/master/images/nn_example/slide_15.jpg\" width=\"750px\">`,\n",
        "`<img src=\"https://raw.githubusercontent.com/fbeilstein/presentations/master/images/nn_example/slide_16.jpg\" width=\"750px\">`,\n",
        "`<img src=\"https://raw.githubusercontent.com/fbeilstein/presentations/master/images/nn_example/slide_17.jpg\" width=\"750px\">`,\n",
        "`<img src=\"https://raw.githubusercontent.com/fbeilstein/presentations/master/images/nn_example/slide_18.jpg\" width=\"750px\">`,\n",
        "`<img src=\"https://raw.githubusercontent.com/fbeilstein/presentations/master/images/nn_example/slide_19.jpg\" width=\"750px\">`,\n",
        "`<img src=\"https://raw.githubusercontent.com/fbeilstein/presentations/master/images/nn_example/slide_20.jpg\" width=\"750px\">`\n",
        "  ]\n",
        ")\n",
        "</script>"
      ],
      "metadata": {
        "cellView": "form",
        "id": "C-SPOkxaTt4J",
        "outputId": "3dd46f80-bf06-4136-fe02-b384fa44b8b7",
        "colab": {
          "base_uri": "https://localhost:8080/",
          "height": 644
        }
      },
      "execution_count": 3,
      "outputs": [
        {
          "output_type": "display_data",
          "data": {
            "text/plain": [
              "<IPython.core.display.HTML object>"
            ],
            "text/html": [
              "<link rel=\"stylesheet\" href=\"https://fbeilstein.github.io/machine_learning/js_common/styles.css\"/>\n",
              "<script src=\"https://fbeilstein.github.io/machine_learning/js_common/script.js\"></script>\n",
              "<script>\n",
              "load_slides_from(\n",
              "[ \n",
              "`<img src=\"https://raw.githubusercontent.com/fbeilstein/presentations/master/images/nn_example/slide_1.jpg\" width=\"750px\">`,\n",
              "`<img src=\"https://raw.githubusercontent.com/fbeilstein/presentations/master/images/nn_example/slide_2.jpg\" width=\"750px\">`,\n",
              "`<img src=\"https://raw.githubusercontent.com/fbeilstein/presentations/master/images/nn_example/slide_3.jpg\" width=\"750px\">`,\n",
              "`<img src=\"https://raw.githubusercontent.com/fbeilstein/presentations/master/images/nn_example/slide_4.jpg\" width=\"750px\">`,\n",
              "`<img src=\"https://raw.githubusercontent.com/fbeilstein/presentations/master/images/nn_example/slide_5.jpg\" width=\"750px\">`,\n",
              "`<img src=\"https://raw.githubusercontent.com/fbeilstein/presentations/master/images/nn_example/slide_6.jpg\" width=\"750px\">`,\n",
              "`<img src=\"https://raw.githubusercontent.com/fbeilstein/presentations/master/images/nn_example/slide_7.jpg\" width=\"750px\">`,\n",
              "`<img src=\"https://raw.githubusercontent.com/fbeilstein/presentations/master/images/nn_example/slide_8.jpg\" width=\"750px\">`,\n",
              "`<img src=\"https://raw.githubusercontent.com/fbeilstein/presentations/master/images/nn_example/slide_9.jpg\" width=\"750px\">`,\n",
              "`<img src=\"https://raw.githubusercontent.com/fbeilstein/presentations/master/images/nn_example/slide_10.jpg\" width=\"750px\">`,\n",
              "`<img src=\"https://raw.githubusercontent.com/fbeilstein/presentations/master/images/nn_example/slide_11.jpg\" width=\"750px\">`,\n",
              "`<img src=\"https://raw.githubusercontent.com/fbeilstein/presentations/master/images/nn_example/slide_12.jpg\" width=\"750px\">`,\n",
              "`<img src=\"https://raw.githubusercontent.com/fbeilstein/presentations/master/images/nn_example/slide_13.jpg\" width=\"750px\">`,\n",
              "`<img src=\"https://raw.githubusercontent.com/fbeilstein/presentations/master/images/nn_example/slide_14.jpg\" width=\"750px\">`,\n",
              "`<img src=\"https://raw.githubusercontent.com/fbeilstein/presentations/master/images/nn_example/slide_15.jpg\" width=\"750px\">`,\n",
              "`<img src=\"https://raw.githubusercontent.com/fbeilstein/presentations/master/images/nn_example/slide_16.jpg\" width=\"750px\">`,\n",
              "`<img src=\"https://raw.githubusercontent.com/fbeilstein/presentations/master/images/nn_example/slide_17.jpg\" width=\"750px\">`,\n",
              "`<img src=\"https://raw.githubusercontent.com/fbeilstein/presentations/master/images/nn_example/slide_18.jpg\" width=\"750px\">`,\n",
              "`<img src=\"https://raw.githubusercontent.com/fbeilstein/presentations/master/images/nn_example/slide_19.jpg\" width=\"750px\">`,\n",
              "`<img src=\"https://raw.githubusercontent.com/fbeilstein/presentations/master/images/nn_example/slide_20.jpg\" width=\"750px\">`\n",
              "  ]\n",
              ")\n",
              "</script>\n"
            ]
          },
          "metadata": {}
        }
      ]
    },
    {
      "cell_type": "markdown",
      "source": [
        "# Example SimpleRandomNet"
      ],
      "metadata": {
        "id": "lzY2VuKw9qMJ"
      }
    },
    {
      "cell_type": "code",
      "source": [
        "!pip install keras"
      ],
      "metadata": {
        "id": "bWbea6yzU1NW"
      },
      "execution_count": null,
      "outputs": []
    },
    {
      "cell_type": "code",
      "source": [
        "from sklearn.datasets import load_digits\n",
        "from sklearn.model_selection import train_test_split\n",
        "from tensorflow.keras.utils import to_categorical\n",
        "import numpy as np\n",
        "import matplotlib.pyplot as plt\n",
        "\n",
        "digits = load_digits()\n",
        "X_all = digits.data.reshape(digits.data.shape[0], 8, 8, 1).astype(float) / 256.0\n",
        "\n",
        "X_train, X_test, y_train, y_test =  train_test_split(X_all,\n",
        "                                                     digits.target,\n",
        "                                                     train_size=0.75,\n",
        "                                                     shuffle=True)\n",
        "y_train, y_test = to_categorical(y_train), to_categorical(y_test)\n",
        "\n",
        "def plot_digits(data):\n",
        "  fig, ax = plt.subplots(10, 10, figsize=(8, 8), subplot_kw=dict(xticks=[], yticks=[]))\n",
        "  fig.subplots_adjust(hspace=0.05, wspace=0.05)\n",
        "  for i, axi in enumerate(ax.flat):\n",
        "    im = axi.imshow(data[i,:,:,0], cmap='binary')\n",
        "  im.set_clim(0, 16)\n",
        "\n",
        "plot_digits(X_train)\n",
        "X_train.shape, y_train.shape"
      ],
      "metadata": {
        "colab": {
          "base_uri": "https://localhost:8080/",
          "height": 670
        },
        "id": "sMgclUUh9tUH",
        "outputId": "218a816e-aa6b-478c-9112-f3cd6fac284e"
      },
      "execution_count": 31,
      "outputs": [
        {
          "output_type": "execute_result",
          "data": {
            "text/plain": [
              "((1347, 8, 8, 1), (1347, 10))"
            ]
          },
          "metadata": {},
          "execution_count": 31
        },
        {
          "output_type": "display_data",
          "data": {
            "text/plain": [
              "<Figure size 800x800 with 100 Axes>"
            ],
            "image/png": "[encoded data removed]"
          },
          "metadata": {}
        }
      ]
    },
    {
      "cell_type": "code",
      "source": [
        "from tensorflow.keras import Model\n",
        "from tensorflow.keras.models import Sequential\n",
        "from tensorflow.keras.losses import categorical_crossentropy, binary_crossentropy\n",
        "from tensorflow.keras.layers import Dense, Flatten, Conv2D, AveragePooling2D, Input\n",
        "\n",
        "class RandNet(Sequential):\n",
        "  def __init__(self, input_shape, nb_classes):\n",
        "    super().__init__()\n",
        "    self.add(Input(input_shape))\n",
        "    self.add(Conv2D(6, kernel_size=(3, 3), strides=(1, 1),\n",
        "                    activation='tanh',\n",
        "                    padding=\"same\"))\n",
        "    self.add(AveragePooling2D(pool_size=(2, 2), strides=(2, 2), padding='valid'))\n",
        "    self.add(Flatten())\n",
        "    self.add(Dense(nb_classes, activation='softmax'))\n",
        "\n",
        "    self.compile(optimizer='adam',\n",
        "                loss=categorical_crossentropy,\n",
        "                metrics=['accuracy'])\n",
        "\n",
        "model = RandNet(X_train[0].shape, 10)\n",
        "model.summary()"
      ],
      "metadata": {
        "colab": {
          "base_uri": "https://localhost:8080/",
          "height": 273
        },
        "id": "LtUqcvCBIcbv",
        "outputId": "2bfd46fb-106a-4372-ac0b-866fe13338a1"
      },
      "execution_count": 16,
      "outputs": [
        {
          "output_type": "display_data",
          "data": {
            "text/plain": [
              "\u001b[1mModel: \"rand_net_5\"\u001b[0m\n"
            ],
            "text/html": [
              "<pre style=\"white-space:pre;overflow-x:auto;line-height:normal;font-family:Menlo,'DejaVu Sans Mono',consolas,'Courier New',monospace\"><span style=\"font-weight: bold\">Model: \"rand_net_5\"</span>\n",
              "</pre>\n"
            ]
          },
          "metadata": {}
        },
        {
          "output_type": "display_data",
          "data": {
            "text/plain": [
              "┏━━━━━━━━━━━━━━━━━━━━━━━━━━━━━━━━━━━━━━┳━━━━━━━━━━━━━━━━━━━━━━━━━━━━━┳━━━━━━━━━━━━━━━━━┓\n",
              "┃\u001b[1m \u001b[0m\u001b[1mLayer (type)                        \u001b[0m\u001b[1m \u001b[0m┃\u001b[1m \u001b[0m\u001b[1mOutput Shape               \u001b[0m\u001b[1m \u001b[0m┃\u001b[1m \u001b[0m\u001b[1m        Param #\u001b[0m\u001b[1m \u001b[0m┃\n",
              "┡━━━━━━━━━━━━━━━━━━━━━━━━━━━━━━━━━━━━━━╇━━━━━━━━━━━━━━━━━━━━━━━━━━━━━╇━━━━━━━━━━━━━━━━━┩\n",
              "│ conv2d_4 (\u001b[38;5;33mConv2D\u001b[0m)                    │ (\u001b[38;5;45mNone\u001b[0m, \u001b[38;5;34m8\u001b[0m, \u001b[38;5;34m8\u001b[0m, \u001b[38;5;34m6\u001b[0m)             │              \u001b[38;5;34m60\u001b[0m │\n",
              "├──────────────────────────────────────┼─────────────────────────────┼─────────────────┤\n",
              "│ average_pooling2d_4                  │ (\u001b[38;5;45mNone\u001b[0m, \u001b[38;5;34m4\u001b[0m, \u001b[38;5;34m4\u001b[0m, \u001b[38;5;34m6\u001b[0m)             │               \u001b[38;5;34m0\u001b[0m │\n",
              "│ (\u001b[38;5;33mAveragePooling2D\u001b[0m)                   │                             │                 │\n",
              "├──────────────────────────────────────┼─────────────────────────────┼─────────────────┤\n",
              "│ flatten_4 (\u001b[38;5;33mFlatten\u001b[0m)                  │ (\u001b[38;5;45mNone\u001b[0m, \u001b[38;5;34m96\u001b[0m)                  │               \u001b[38;5;34m0\u001b[0m │\n",
              "├──────────────────────────────────────┼─────────────────────────────┼─────────────────┤\n",
              "│ dense_4 (\u001b[38;5;33mDense\u001b[0m)                      │ (\u001b[38;5;45mNone\u001b[0m, \u001b[38;5;34m10\u001b[0m)                  │             \u001b[38;5;34m970\u001b[0m │\n",
              "└──────────────────────────────────────┴─────────────────────────────┴─────────────────┘\n"
            ],
            "text/html": [
              "<pre style=\"white-space:pre;overflow-x:auto;line-height:normal;font-family:Menlo,'DejaVu Sans Mono',consolas,'Courier New',monospace\">┏━━━━━━━━━━━━━━━━━━━━━━━━━━━━━━━━━━━━━━┳━━━━━━━━━━━━━━━━━━━━━━━━━━━━━┳━━━━━━━━━━━━━━━━━┓\n",
              "┃<span style=\"font-weight: bold\"> Layer (type)                         </span>┃<span style=\"font-weight: bold\"> Output Shape                </span>┃<span style=\"font-weight: bold\">         Param # </span>┃\n",
              "┡━━━━━━━━━━━━━━━━━━━━━━━━━━━━━━━━━━━━━━╇━━━━━━━━━━━━━━━━━━━━━━━━━━━━━╇━━━━━━━━━━━━━━━━━┩\n",
              "│ conv2d_4 (<span style=\"color: #0087ff; text-decoration-color: #0087ff\">Conv2D</span>)                    │ (<span style=\"color: #00d7ff; text-decoration-color: #00d7ff\">None</span>, <span style=\"color: #00af00; text-decoration-color: #00af00\">8</span>, <span style=\"color: #00af00; text-decoration-color: #00af00\">8</span>, <span style=\"color: #00af00; text-decoration-color: #00af00\">6</span>)             │              <span style=\"color: #00af00; text-decoration-color: #00af00\">60</span> │\n",
              "├──────────────────────────────────────┼─────────────────────────────┼─────────────────┤\n",
              "│ average_pooling2d_4                  │ (<span style=\"color: #00d7ff; text-decoration-color: #00d7ff\">None</span>, <span style=\"color: #00af00; text-decoration-color: #00af00\">4</span>, <span style=\"color: #00af00; text-decoration-color: #00af00\">4</span>, <span style=\"color: #00af00; text-decoration-color: #00af00\">6</span>)             │               <span style=\"color: #00af00; text-decoration-color: #00af00\">0</span> │\n",
              "│ (<span style=\"color: #0087ff; text-decoration-color: #0087ff\">AveragePooling2D</span>)                   │                             │                 │\n",
              "├──────────────────────────────────────┼─────────────────────────────┼─────────────────┤\n",
              "│ flatten_4 (<span style=\"color: #0087ff; text-decoration-color: #0087ff\">Flatten</span>)                  │ (<span style=\"color: #00d7ff; text-decoration-color: #00d7ff\">None</span>, <span style=\"color: #00af00; text-decoration-color: #00af00\">96</span>)                  │               <span style=\"color: #00af00; text-decoration-color: #00af00\">0</span> │\n",
              "├──────────────────────────────────────┼─────────────────────────────┼─────────────────┤\n",
              "│ dense_4 (<span style=\"color: #0087ff; text-decoration-color: #0087ff\">Dense</span>)                      │ (<span style=\"color: #00d7ff; text-decoration-color: #00d7ff\">None</span>, <span style=\"color: #00af00; text-decoration-color: #00af00\">10</span>)                  │             <span style=\"color: #00af00; text-decoration-color: #00af00\">970</span> │\n",
              "└──────────────────────────────────────┴─────────────────────────────┴─────────────────┘\n",
              "</pre>\n"
            ]
          },
          "metadata": {}
        },
        {
          "output_type": "display_data",
          "data": {
            "text/plain": [
              "\u001b[1m Total params: \u001b[0m\u001b[38;5;34m1,030\u001b[0m (4.02 KB)\n"
            ],
            "text/html": [
              "<pre style=\"white-space:pre;overflow-x:auto;line-height:normal;font-family:Menlo,'DejaVu Sans Mono',consolas,'Courier New',monospace\"><span style=\"font-weight: bold\"> Total params: </span><span style=\"color: #00af00; text-decoration-color: #00af00\">1,030</span> (4.02 KB)\n",
              "</pre>\n"
            ]
          },
          "metadata": {}
        },
        {
          "output_type": "display_data",
          "data": {
            "text/plain": [
              "\u001b[1m Trainable params: \u001b[0m\u001b[38;5;34m1,030\u001b[0m (4.02 KB)\n"
            ],
            "text/html": [
              "<pre style=\"white-space:pre;overflow-x:auto;line-height:normal;font-family:Menlo,'DejaVu Sans Mono',consolas,'Courier New',monospace\"><span style=\"font-weight: bold\"> Trainable params: </span><span style=\"color: #00af00; text-decoration-color: #00af00\">1,030</span> (4.02 KB)\n",
              "</pre>\n"
            ]
          },
          "metadata": {}
        },
        {
          "output_type": "display_data",
          "data": {
            "text/plain": [
              "\u001b[1m Non-trainable params: \u001b[0m\u001b[38;5;34m0\u001b[0m (0.00 B)\n"
            ],
            "text/html": [
              "<pre style=\"white-space:pre;overflow-x:auto;line-height:normal;font-family:Menlo,'DejaVu Sans Mono',consolas,'Courier New',monospace\"><span style=\"font-weight: bold\"> Non-trainable params: </span><span style=\"color: #00af00; text-decoration-color: #00af00\">0</span> (0.00 B)\n",
              "</pre>\n"
            ]
          },
          "metadata": {}
        }
      ]
    },
    {
      "cell_type": "markdown",
      "source": [
        "**Categorical cross-entropy** loss function $L$ is computed as follows\n",
        "$$\n",
        "L = \\sum_i t_i \\ln(s_i),\n",
        "$$\n",
        "where $t_i$ are truth values and $s_i$ are **softmax** outputs\n",
        "$$\n",
        "\\sigma(\\mathbf{z})_i = \\frac{e^{z_i}}{\\sum_{j=1}^K e^{z_j}} \\text{ for } i = 1, \\dotsc, K \\text{ and } \\mathbf{z} = (z_1, \\dotsc, z_K) \\in \\mathbb{R}^K.\n",
        "$$\n",
        "In our case $t_i$ are either $0$ or $1$ (see `to_categorical` function). We may have used `sparse_crossentropy`, same function different class encoding."
      ],
      "metadata": {
        "id": "qIG1FeKuqj_R"
      }
    },
    {
      "cell_type": "code",
      "source": [
        "model.fit(X_train, y=y_train,\n",
        "          epochs=400,\n",
        "          validation_data=(X_test, y_test),\n",
        "          verbose=1)"
      ],
      "metadata": {
        "id": "E_krbam3dYM1"
      },
      "execution_count": null,
      "outputs": []
    },
    {
      "cell_type": "code",
      "source": [
        "import seaborn as sns; sns.set()\n",
        "from sklearn.metrics import confusion_matrix\n",
        "confusion_matrix(np.argmax(y_test, axis=1), #true\n",
        "                 np.argmax(model.predict(X_test), axis=1)   #predicted\n",
        "                )"
      ],
      "metadata": {
        "colab": {
          "base_uri": "https://localhost:8080/"
        },
        "id": "lTOtu97vnY99",
        "outputId": "03468e94-4721-4e66-ce38-90b59caed35c"
      },
      "execution_count": 22,
      "outputs": [
        {
          "output_type": "stream",
          "name": "stdout",
          "text": [
            "\u001b[1m15/15\u001b[0m \u001b[32m━━━━━━━━━━━━━━━━━━━━\u001b[0m\u001b[37m\u001b[0m \u001b[1m0s\u001b[0m 3ms/step \n"
          ]
        },
        {
          "output_type": "execute_result",
          "data": {
            "text/plain": [
              "array([[43,  0,  1,  0,  0,  0,  0,  0,  0,  0],\n",
              "       [ 0, 50,  0,  0,  0,  0,  1,  0,  0,  0],\n",
              "       [ 0,  0, 41,  1,  0,  0,  0,  0,  0,  0],\n",
              "       [ 0,  0,  0, 35,  0,  0,  0,  0,  0,  0],\n",
              "       [ 0,  0,  0,  0, 48,  0,  0,  0,  0,  0],\n",
              "       [ 0,  0,  1,  0,  0, 43,  0,  0,  0,  1],\n",
              "       [ 0,  0,  0,  0,  0,  0, 47,  0,  0,  0],\n",
              "       [ 0,  0,  0,  1,  2,  0,  0, 36,  1,  1],\n",
              "       [ 0,  1,  0,  1,  0,  1,  0,  0, 52,  0],\n",
              "       [ 0,  0,  0,  0,  0,  0,  0,  0,  1, 41]])"
            ]
          },
          "metadata": {},
          "execution_count": 22
        }
      ]
    },
    {
      "cell_type": "code",
      "source": [
        "input = X_test\n",
        "idx = 0\n",
        "\n",
        "import tensorflow.keras.backend as K\n",
        "import matplotlib.pyplot as plt\n",
        "\n",
        "conv_outs = K.function(inputs=model.input,\n",
        "                       outputs=model.layers[0].output)(input)\n",
        "pool_outs = K.function(inputs=model.input,\n",
        "                       outputs=model.layers[1].output)(input)\n",
        "model_outs = model.predict(input)\n",
        "\n",
        "\n",
        "print(\"INPUT:\")\n",
        "fig, ax = plt.subplots(1, 1, figsize=(1, 1), subplot_kw=dict(xticks=[], yticks=[]))\n",
        "ax.imshow(input[idx], cmap='binary')\n",
        "plt.show()\n",
        "\n",
        "print('CONVOLUTION:')\n",
        "fig, ax = plt.subplots(1, 6, figsize=(6, 1), subplot_kw=dict(xticks=[], yticks=[]))\n",
        "fig.subplots_adjust(hspace=0.05, wspace=0.05)\n",
        "for i, axi in enumerate(ax.flat):\n",
        "  axi.imshow(conv_outs[idx, :, :, i], cmap='binary')\n",
        "plt.show()\n",
        "\n",
        "print('AVERAGE POOL:')\n",
        "fig, ax = plt.subplots(1, 6, figsize=(6, 1), subplot_kw=dict(xticks=[], yticks=[]))\n",
        "fig.subplots_adjust(hspace=0.05, wspace=0.05)\n",
        "for i, axi in enumerate(ax.flat):\n",
        "  axi.imshow(pool_outs[idx, :, :, i], cmap='binary')\n",
        "plt.show()\n",
        "\n",
        "print('OUTPUT:')\n",
        "print(model_outs[idx]);"
      ],
      "metadata": {
        "colab": {
          "base_uri": "https://localhost:8080/",
          "height": 211
        },
        "id": "NaVN8MbXmB6E",
        "outputId": "3c49c373-d566-436e-8678-061c08a885f3"
      },
      "execution_count": 23,
      "outputs": [
        {
          "output_type": "error",
          "ename": "AttributeError",
          "evalue": "module 'tensorflow.keras.backend' has no attribute 'function'",
          "traceback": [
            "\u001b[0;31m---------------------------------------------------------------------------\u001b[0m",
            "\u001b[0;31mAttributeError\u001b[0m                            Traceback (most recent call last)",
            "\u001b[0;32m<ipython-input-23-83b4dea8cea8>\u001b[0m in \u001b[0;36m<cell line: 7>\u001b[0;34m()\u001b[0m\n\u001b[1;32m      5\u001b[0m \u001b[0;32mimport\u001b[0m \u001b[0mmatplotlib\u001b[0m\u001b[0;34m.\u001b[0m\u001b[0mpyplot\u001b[0m \u001b[0;32mas\u001b[0m \u001b[0mplt\u001b[0m\u001b[0;34m\u001b[0m\u001b[0;34m\u001b[0m\u001b[0m\n\u001b[1;32m      6\u001b[0m \u001b[0;34m\u001b[0m\u001b[0m\n\u001b[0;32m----> 7\u001b[0;31m conv_outs = K.function(inputs=model.input,\n\u001b[0m\u001b[1;32m      8\u001b[0m                        outputs=model.layers[0].output)(input)\n\u001b[1;32m      9\u001b[0m pool_outs = K.function(inputs=model.input,\n",
            "\u001b[0;31mAttributeError\u001b[0m: module 'tensorflow.keras.backend' has no attribute 'function'"
          ]
        }
      ]
    },
    {
      "cell_type": "code",
      "source": [
        "import torch\n",
        "import torch.nn as nn\n",
        "import torch.nn.functional as F\n",
        "\n",
        "class RandNet(nn.Module):\n",
        "    def __init__(self, input_shape, nb_classes):\n",
        "        super(RandNet, self).__init__()\n",
        "        self.conv = nn.Conv2d(in_channels=input_shape[0], out_channels=6, kernel_size=3, padding=1)\n",
        "        self.pool = nn.AvgPool2d(kernel_size=2, stride=2)\n",
        "        self.flatten = nn.Flatten()\n",
        "        self.fc = nn.Linear(6 * (input_shape[1] // 2) * (input_shape[2] // 2), nb_classes)  # Assuming 2D input shape\n",
        "\n",
        "    def forward(self, x):\n",
        "        conv_out = torch.tanh(self.conv(x))\n",
        "        pool_out = self.pool(conv_out)\n",
        "        flat_out = self.flatten(pool_out)\n",
        "        out = F.softmax(self.fc(flat_out), dim=1)\n",
        "        return conv_out, pool_out, flat_out, out\n",
        "\n",
        "model = RandNet(X_train[0].shape, 10)\n",
        "model.summary()"
      ],
      "metadata": {
        "id": "QKvH05edbGT-",
        "outputId": "bc7d790a-7531-40a6-819b-e61b321a68d4",
        "colab": {
          "base_uri": "https://localhost:8080/",
          "height": 332
        }
      },
      "execution_count": 32,
      "outputs": [
        {
          "output_type": "stream",
          "name": "stderr",
          "text": [
            "/usr/local/lib/python3.10/dist-packages/torch/nn/init.py:453: UserWarning: Initializing zero-element tensors is a no-op\n",
            "  warnings.warn(\"Initializing zero-element tensors is a no-op\")\n"
          ]
        },
        {
          "output_type": "error",
          "ename": "AttributeError",
          "evalue": "'RandNet' object has no attribute 'summary'",
          "traceback": [
            "\u001b[0;31m---------------------------------------------------------------------------\u001b[0m",
            "\u001b[0;31mAttributeError\u001b[0m                            Traceback (most recent call last)",
            "\u001b[0;32m<ipython-input-32-e48d55ccc0bf>\u001b[0m in \u001b[0;36m<cell line: 21>\u001b[0;34m()\u001b[0m\n\u001b[1;32m     19\u001b[0m \u001b[0;34m\u001b[0m\u001b[0m\n\u001b[1;32m     20\u001b[0m \u001b[0mmodel\u001b[0m \u001b[0;34m=\u001b[0m \u001b[0mRandNet\u001b[0m\u001b[0;34m(\u001b[0m\u001b[0mX_train\u001b[0m\u001b[0;34m[\u001b[0m\u001b[0;36m0\u001b[0m\u001b[0;34m]\u001b[0m\u001b[0;34m.\u001b[0m\u001b[0mshape\u001b[0m\u001b[0;34m,\u001b[0m \u001b[0;36m10\u001b[0m\u001b[0;34m)\u001b[0m\u001b[0;34m\u001b[0m\u001b[0;34m\u001b[0m\u001b[0m\n\u001b[0;32m---> 21\u001b[0;31m \u001b[0mmodel\u001b[0m\u001b[0;34m.\u001b[0m\u001b[0msummary\u001b[0m\u001b[0;34m(\u001b[0m\u001b[0;34m)\u001b[0m\u001b[0;34m\u001b[0m\u001b[0;34m\u001b[0m\u001b[0m\n\u001b[0m",
            "\u001b[0;32m/usr/local/lib/python3.10/dist-packages/torch/nn/modules/module.py\u001b[0m in \u001b[0;36m__getattr__\u001b[0;34m(self, name)\u001b[0m\n\u001b[1;32m   1727\u001b[0m             \u001b[0;32mif\u001b[0m \u001b[0mname\u001b[0m \u001b[0;32min\u001b[0m \u001b[0mmodules\u001b[0m\u001b[0;34m:\u001b[0m\u001b[0;34m\u001b[0m\u001b[0;34m\u001b[0m\u001b[0m\n\u001b[1;32m   1728\u001b[0m                 \u001b[0;32mreturn\u001b[0m \u001b[0mmodules\u001b[0m\u001b[0;34m[\u001b[0m\u001b[0mname\u001b[0m\u001b[0;34m]\u001b[0m\u001b[0;34m\u001b[0m\u001b[0;34m\u001b[0m\u001b[0m\n\u001b[0;32m-> 1729\u001b[0;31m         \u001b[0;32mraise\u001b[0m \u001b[0mAttributeError\u001b[0m\u001b[0;34m(\u001b[0m\u001b[0;34mf\"'{type(self).__name__}' object has no attribute '{name}'\"\u001b[0m\u001b[0;34m)\u001b[0m\u001b[0;34m\u001b[0m\u001b[0;34m\u001b[0m\u001b[0m\n\u001b[0m\u001b[1;32m   1730\u001b[0m \u001b[0;34m\u001b[0m\u001b[0m\n\u001b[1;32m   1731\u001b[0m     \u001b[0;32mdef\u001b[0m \u001b[0m__setattr__\u001b[0m\u001b[0;34m(\u001b[0m\u001b[0mself\u001b[0m\u001b[0;34m,\u001b[0m \u001b[0mname\u001b[0m\u001b[0;34m:\u001b[0m \u001b[0mstr\u001b[0m\u001b[0;34m,\u001b[0m \u001b[0mvalue\u001b[0m\u001b[0;34m:\u001b[0m \u001b[0mUnion\u001b[0m\u001b[0;34m[\u001b[0m\u001b[0mTensor\u001b[0m\u001b[0;34m,\u001b[0m \u001b[0;34m'Module'\u001b[0m\u001b[0;34m]\u001b[0m\u001b[0;34m)\u001b[0m \u001b[0;34m->\u001b[0m \u001b[0;32mNone\u001b[0m\u001b[0;34m:\u001b[0m\u001b[0;34m\u001b[0m\u001b[0;34m\u001b[0m\u001b[0m\n",
            "\u001b[0;31mAttributeError\u001b[0m: 'RandNet' object has no attribute 'summary'"
          ]
        }
      ]
    },
    {
      "cell_type": "code",
      "source": [
        "model.fit(X_train, y=y_train,\n",
        "          epochs=400,\n",
        "          validation_data=(X_test, y_test),\n",
        "          verbose=1)"
      ],
      "metadata": {
        "id": "-IrgFHCSbuwC"
      },
      "execution_count": null,
      "outputs": []
    },
    {
      "cell_type": "code",
      "source": [
        "\n",
        "\n",
        "# Get intermediate outputs\n",
        "conv_out, pool_out, flat_out, model_out = model(X_train)\n",
        "\n",
        "print(\"Convolution Output:\", conv_out.shape)\n",
        "print(\"Pooling Output:\", pool_out.shape)\n",
        "print(\"Flatten Output:\", flat_out.shape)\n",
        "print(\"Final Output:\", model_out.shape)"
      ],
      "metadata": {
        "id": "FXP8AXYdbwNc"
      },
      "execution_count": null,
      "outputs": []
    }
  ]
}