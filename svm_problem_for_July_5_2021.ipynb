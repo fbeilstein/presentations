{
  "nbformat": 4,
  "nbformat_minor": 0,
  "metadata": {
    "colab": {
      "name": "svm_problem_for_July_5_2021.ipynb",
      "provenance": [],
      "authorship_tag": "ABX9TyPpakpltfc0A9s+SSUWjQfb",
      "include_colab_link": true
    },
    "kernelspec": {
      "name": "python3",
      "display_name": "Python 3"
    },
    "language_info": {
      "name": "python"
    }
  },
  "cells": [
    {
      "cell_type": "markdown",
      "metadata": {
        "id": "view-in-github",
        "colab_type": "text"
      },
      "source": [
        "<a href=\"https://colab.research.google.com/github/fbeilstein/presentations/blob/master/svm_problem_for_July_5_2021.ipynb\" target=\"_parent\"><img src=\"https://colab.research.google.com/assets/colab-badge.svg\" alt=\"Open In Colab\"/></a>"
      ]
    },
    {
      "cell_type": "code",
      "metadata": {
        "cellView": "form",
        "id": "ueXvHUD2O2_m"
      },
      "source": [
        "#@title #Download and import dataset\n",
        "#@markdown Run this block of code to download the dataset (images) for classification.\n",
        "#@markdown This is a simplified version of the https://www.kaggle.com/alex000kim/magnetic-tile-surface-defects dataset from Kaggle.\n",
        "#@markdown You may want to check the description of the original dataset for more information.\n",
        "#@markdown Make sure no error occurs, otherwise ask for help.\n",
        "#@markdown\n",
        "#@markdown After execution is complete, the dataset is ready to use.\n",
        "#@markdown You will get few variables defined, names listed below\n",
        "#@markdown \n",
        "#@markdown |variable|meaning|\n",
        "#@markdown ---|---\n",
        "#@markdown `im_blowhole` | the blowhole defect\n",
        "#@markdown `im_break` |\n",
        "#@markdown `im_crack` |\n",
        "#@markdown `im_fray` | \n",
        "#@markdown `im_free` | NO DEFECT\n",
        "#@markdown `im_uneven` | \n",
        "#@markdown \n",
        "#@markdown Each variable is a 3-dimensional numpy array.\n",
        "#@markdown The 0-th axis corresponds to the image, i.e. `im_crack[12]` is the 12-th image with crack.\n",
        "#@markdown Use `shape[0]` to detect number of images.\n",
        "#@markdown The rest two coordinates correspont to the X-Y in of the image.\n",
        "#@markdown Each image is 100x100.\n",
        "#@markdown Overview of all images will be available after execution is complete.\n",
        "\n",
        "\n",
        "\n",
        "\n",
        "\n",
        "!wget https://raw.githubusercontent.com/fbeilstein/presentations/master/datasets/defects.zip\n",
        "!unzip defects.zip\n",
        "\n",
        "from google.colab import output\n",
        "output.clear()\n",
        "\n",
        "import numpy as np\n",
        "\n",
        "def load_images(folder):\n",
        "  import os\n",
        "  from matplotlib import image\n",
        "  imgs = np.array([image.imread(folder+'/'+filename) for filename in os.listdir(folder)], dtype=float)\n",
        "  return imgs\n",
        "\n",
        "im_blowhole = load_images('blowhole')\n",
        "im_break = load_images('break')\n",
        "im_crack = load_images('crack')\n",
        "im_fray = load_images('fray')\n",
        "im_free = load_images('free')\n",
        "im_uneven = load_images('uneven')\n",
        "\n",
        "import matplotlib.pyplot as plt\n",
        "\n",
        "def plot_all(images):\n",
        "  columns = 10\n",
        "  rows = (images.shape[0] + columns - 1) // columns\n",
        "  fig, axes = plt.subplots(rows, columns, figsize=(columns, rows), subplot_kw={'xticks':[], 'yticks':[]}, gridspec_kw=dict(hspace=0.1, wspace=0.1))\n",
        "\n",
        "  for i, ax in zip(range(images.shape[0]), axes.flat):\n",
        "    ax.imshow(images[i], cmap='gray')\n",
        "\n",
        "  plt.show()\n",
        "\n",
        "def do_visualization():\n",
        "  from google.colab import widgets\n",
        "  names = ['im_blowhole', 'im_break', 'im_crack', 'im_fray', 'im_free', 'im_uneven']\n",
        "  data = [im_blowhole, im_break, im_crack, im_fray, im_free, im_uneven]\n",
        "  tb = widgets.TabBar(names, location='top')\n",
        "  for i in range(len(names)):\n",
        "    with tb.output_to(i):\n",
        "      plot_all(data[i])\n"
      ],
      "execution_count": null,
      "outputs": []
    },
    {
      "cell_type": "markdown",
      "metadata": {
        "id": "a-BZAopwTQ_u"
      },
      "source": [
        "Example of single image visualization"
      ]
    },
    {
      "cell_type": "code",
      "metadata": {
        "id": "TxCtIE9XTMnN"
      },
      "source": [
        "import matplotlib.pyplot as plt\n",
        "\n",
        "plt.imshow(im_blowhole[2], cmap='gray')\n",
        "plt.show()"
      ],
      "execution_count": null,
      "outputs": []
    },
    {
      "cell_type": "code",
      "metadata": {
        "colab": {
          "base_uri": "https://localhost:8080/"
        },
        "id": "RbBOqNUrTi7_",
        "outputId": "e5357bed-850e-48a5-ae4a-2b90c37fa5e6"
      },
      "source": [
        "from itertools import chain\n",
        "from skimage import feature\n",
        "X_train = np.array([feature.hog(im) for im in chain(im_free, im_blowhole)])\n",
        "y_train = np.zeros(X_train.shape[0])\n",
        "y_train[:im_free.shape[0]] = 1\n",
        "X_train.shape"
      ],
      "execution_count": null,
      "outputs": [
        {
          "output_type": "execute_result",
          "data": {
            "text/plain": [
              "(1067, 8100)"
            ]
          },
          "metadata": {
            "tags": []
          },
          "execution_count": 12
        }
      ]
    },
    {
      "cell_type": "code",
      "metadata": {
        "id": "hU773R_dUMTY"
      },
      "source": [
        "# Grid search for best parameters\n",
        "from sklearn.svm import LinearSVC\n",
        "from sklearn.model_selection import GridSearchCV\n",
        "\n",
        "#from sklearn.svm import SVC\n",
        "#model = SVC(kernel='rbf', C=1E1, gamma='auto')\n",
        "#model.fit(X_train, y_train)\n",
        "\n",
        "grid = GridSearchCV(LinearSVC(), {'C': [1.0, 2.0, 4.0, 8.0]}, cv=3)\n",
        "grid.fit(X_train, y_train)\n",
        "print(grid.best_score_)\n",
        "print(grid.best_params_)\n",
        "model = grid.best_estimator_\n",
        "model.fit(X_train, y_train)"
      ],
      "execution_count": null,
      "outputs": []
    },
    {
      "cell_type": "code",
      "metadata": {
        "id": "DFw3S1cnUYd0"
      },
      "source": [
        "np.sum(model.predict(X_train) - y_train)"
      ],
      "execution_count": null,
      "outputs": []
    }
  ]
}