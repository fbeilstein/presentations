{
  "nbformat": 4,
  "nbformat_minor": 0,
  "metadata": {
    "colab": {
      "name": "svm_problem_for_July_5_2021.ipynb",
      "provenance": [],
      "authorship_tag": "ABX9TyPAozVQDaSpdz/3ldeNPM+l",
      "include_colab_link": true
    },
    "kernelspec": {
      "name": "python3",
      "display_name": "Python 3"
    },
    "language_info": {
      "name": "python"
    }
  },
  "cells": [
    {
      "cell_type": "markdown",
      "metadata": {
        "id": "view-in-github",
        "colab_type": "text"
      },
      "source": [
        "<a href=\"https://colab.research.google.com/github/fbeilstein/presentations/blob/master/svm_problem_for_July_5_2021.ipynb\" target=\"_parent\"><img src=\"https://colab.research.google.com/assets/colab-badge.svg\" alt=\"Open In Colab\"/></a>"
      ]
    },
    {
      "cell_type": "code",
      "metadata": {
        "id": "ueXvHUD2O2_m",
        "cellView": "form"
      },
      "source": [
        "#@title #Download and import dataset\n",
        "#@markdown Run this block of code to download the dataset (images) for classification.\n",
        "#@markdown This is a simplified version of the https://www.kaggle.com/alex000kim/magnetic-tile-surface-defects dataset from Kaggle.\n",
        "#@markdown You may want to check the description of the original dataset for more information.\n",
        "#@markdown Make sure no error occurs, otherwise ask for help.\n",
        "#@markdown\n",
        "#@markdown After execution is complete, the dataset is ready to use.\n",
        "#@markdown You will get few variables defined, names listed below\n",
        "#@markdown \n",
        "#@markdown |variable|meaning|\n",
        "#@markdown ---|---\n",
        "#@markdown `im_blowhole` | the blowhole defect\n",
        "#@markdown `im_break` | a broken sample\n",
        "#@markdown `im_crack` | cracks in a sample\n",
        "#@markdown `im_fray` | a sample has worn out\n",
        "#@markdown `im_free` | NO DEFECT\n",
        "#@markdown `im_uneven` | a sample is not smooth\n",
        "#@markdown \n",
        "#@markdown Each variable is a 3-dimensional numpy array.\n",
        "#@markdown The 0-th axis corresponds to the image, i.e. `im_crack[12]` is the 12-th image with crack.\n",
        "#@markdown Use `shape[0]` to detect number of images.\n",
        "#@markdown The rest two coordinates correspont to the X-Y in of the image.\n",
        "#@markdown Each image is 100x100.\n",
        "#@markdown Overview of all images will be available after execution is complete.\n",
        "\n",
        "\n",
        "!wget https://raw.githubusercontent.com/fbeilstein/presentations/master/datasets/defects.zip\n",
        "!unzip -o defects.zip\n",
        "\n",
        "from google.colab import output\n",
        "output.clear()\n",
        "\n",
        "import numpy as np\n",
        "\n",
        "def load_images(folder):\n",
        "  import os\n",
        "  from matplotlib import image\n",
        "  imgs = np.array([image.imread(folder+'/'+filename) for filename in os.listdir(folder)], dtype=float)\n",
        "  return imgs\n",
        "\n",
        "im_blowhole = load_images('blowhole')\n",
        "im_break = load_images('break')\n",
        "im_crack = load_images('crack')\n",
        "im_fray = load_images('fray')\n",
        "im_free = load_images('free')[:150]\n",
        "im_uneven = load_images('uneven')\n",
        "\n",
        "import matplotlib.pyplot as plt\n",
        "\n",
        "def plot_all(images):\n",
        "  columns = 10\n",
        "  rows = (images.shape[0] + columns - 1) // columns\n",
        "  fig, axes = plt.subplots(rows, columns, figsize=(columns, rows), subplot_kw={'xticks':[], 'yticks':[]}, gridspec_kw=dict(hspace=0.1, wspace=0.1))\n",
        "\n",
        "  for i, ax in zip(range(images.shape[0]), axes.flat):\n",
        "    ax.imshow(images[i], cmap='gray')\n",
        "\n",
        "  plt.show()\n",
        "\n",
        "def do_visualization():\n",
        "  from google.colab import widgets\n",
        "  names = ['im_blowhole', 'im_break', 'im_crack', 'im_fray', 'im_free', 'im_uneven']\n",
        "  data = [im_blowhole, im_break, im_crack, im_fray, im_free, im_uneven]\n",
        "  tb = widgets.TabBar(names, location='top')\n",
        "  for i in range(len(names)):\n",
        "    with tb.output_to(i):\n",
        "      plot_all(data[i])\n",
        "\n",
        "do_visualization()"
      ],
      "execution_count": null,
      "outputs": []
    },
    {
      "cell_type": "markdown",
      "metadata": {
        "id": "a-BZAopwTQ_u"
      },
      "source": [
        "**Problem:**\n",
        "visualize any image from the dataset.\n",
        "You may find [imshow](https://matplotlib.org/stable/api/_as_gen/matplotlib.pyplot.imshow.html) useful."
      ]
    },
    {
      "cell_type": "code",
      "metadata": {
        "id": "TxCtIE9XTMnN"
      },
      "source": [
        "# Enter your code here"
      ],
      "execution_count": null,
      "outputs": []
    },
    {
      "cell_type": "markdown",
      "metadata": {
        "id": "u2GiGnMt0uW7"
      },
      "source": [
        "**Problem:**\n",
        "* collect all arrays into one (say `X`).\n",
        "* create vector with appropriate classes (say `y`), classes should be integer numbers starting from zero.\n",
        "* create a list that connects numers to meaning, i.e. `['no defect',...]`\n",
        "\n",
        "You may find useful the [`concatenate`](https://numpy.org/doc/stable/reference/generated/numpy.concatenate.html) function and synthaxix like `[1] * 2 + [2] * 3` that yields `[1,1,2,2,2]`."
      ]
    },
    {
      "cell_type": "code",
      "metadata": {
        "id": "8FdG65htzuHI"
      },
      "source": [
        "# Enter your code here"
      ],
      "execution_count": 87,
      "outputs": []
    },
    {
      "cell_type": "markdown",
      "metadata": {
        "id": "shD6Y-hP4WbA"
      },
      "source": [
        "**Problem:** \n",
        "randomly split your data into train and test. \n",
        "You may consider 80% train 20% test as reasonable split.\n",
        "[train_test_split](https://scikit-learn.org/stable/modules/generated/sklearn.model_selection.train_test_split.html) with `shuffle=True` can be useful."
      ]
    },
    {
      "cell_type": "code",
      "metadata": {
        "id": "BpC31OUDzKXN"
      },
      "source": [
        "# Enter your code here"
      ],
      "execution_count": 88,
      "outputs": []
    },
    {
      "cell_type": "markdown",
      "metadata": {
        "id": "QA8SoEhM2pXI"
      },
      "source": [
        "**Problem:**\n",
        "perform feature engineering and transform your trainset accordingly, i.e. generate an array of features insted of images.\n",
        "I suggest to use the HOG descriptor.\n",
        "You will find [skimage.feature.hog](https://scikit-image.org/docs/dev/api/skimage.feature.html?highlight=hog#skimage.feature.hog) useful.\n",
        "Check [this article](https://hav4ik.github.io/teaching/pr/02-svm-with-hog/) for visuals and theoretical understanding of HOG."
      ]
    },
    {
      "cell_type": "code",
      "metadata": {
        "id": "RbBOqNUrTi7_"
      },
      "source": [
        "# Enter your code here"
      ],
      "execution_count": 89,
      "outputs": []
    },
    {
      "cell_type": "markdown",
      "metadata": {
        "id": "e_5RdbC3BPAk"
      },
      "source": [
        "**Problem:**\n",
        "train SVM.\n",
        "You may choose linear SVM for performance, check [SVC](https://scikit-learn.org/stable/modules/generated/sklearn.svm.SVC.html) class.\n",
        "It seems, you may get a good quality if you choose `rbf` kernel and parameter `C` between `2` and `8`.\n",
        "You may want to use [GridSearchCV](https://scikit-learn.org/stable/modules/generated/sklearn.model_selection.GridSearchCV.html) for parameter `C` estimation.\n"
      ]
    },
    {
      "cell_type": "code",
      "metadata": {
        "id": "hU773R_dUMTY"
      },
      "source": [
        "# Enter your code here"
      ],
      "execution_count": null,
      "outputs": []
    },
    {
      "cell_type": "markdown",
      "metadata": {
        "id": "3-18l3-rSXGt"
      },
      "source": [
        "**Problem:**\n",
        "train the best model you were able to find on the trainset."
      ]
    },
    {
      "cell_type": "code",
      "metadata": {
        "id": "-reRHtWBSdgk"
      },
      "source": [
        "# Enter your code here"
      ],
      "execution_count": null,
      "outputs": []
    },
    {
      "cell_type": "markdown",
      "metadata": {
        "id": "L5eZAt4kSvwr"
      },
      "source": [
        "**Problem:**\n",
        "transform your testset as you did with the trainset.\n",
        "Generate predictions with the model from the previous step."
      ]
    },
    {
      "cell_type": "code",
      "metadata": {
        "id": "w6brvx_rP3NS"
      },
      "source": [
        "# Enter your code here"
      ],
      "execution_count": 92,
      "outputs": []
    },
    {
      "cell_type": "markdown",
      "metadata": {
        "id": "Pe-yBLwmTUhU"
      },
      "source": [
        "**Problem:**\n",
        "generate confusion matrix `conf_matrix` and set of appropriate labels `labels` (the latter you should have been already performed on the first step, just name it `labels`).\n",
        "You may find [confusion_matrix](https://scikit-learn.org/stable/modules/generated/sklearn.metrics.confusion_matrix.html) useful."
      ]
    },
    {
      "cell_type": "code",
      "metadata": {
        "id": "wTKq9TKGT0AF"
      },
      "source": [
        "# Enter your code here"
      ],
      "execution_count": 93,
      "outputs": []
    },
    {
      "cell_type": "markdown",
      "metadata": {
        "id": "20DLVSW1T5nh"
      },
      "source": [
        "**Visualization:**\n",
        "if you did everything correct, just run this code and get the confusion matrix"
      ]
    },
    {
      "cell_type": "code",
      "metadata": {
        "id": "LOOKyyx_ODKH"
      },
      "source": [
        "# Enter your code here"
      ],
      "execution_count": null,
      "outputs": []
    }
  ]
}