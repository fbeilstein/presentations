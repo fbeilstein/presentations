{
  "nbformat": 4,
  "nbformat_minor": 0,
  "metadata": {
    "colab": {
      "provenance": [],
      "authorship_tag": "ABX9TyO0iipsnFR2bhKi48jySmFA",
      "include_colab_link": true
    },
    "kernelspec": {
      "name": "python3",
      "display_name": "Python 3"
    },
    "language_info": {
      "name": "python"
    }
  },
  "cells": [
    {
      "cell_type": "markdown",
      "metadata": {
        "id": "view-in-github",
        "colab_type": "text"
      },
      "source": [
        "<a href=\"https://colab.research.google.com/github/fbeilstein/presentations/blob/master/cosmological_problem_for_August_8_2023.ipynb\" target=\"_parent\"><img src=\"https://colab.research.google.com/assets/colab-badge.svg\" alt=\"Open In Colab\"/></a>"
      ]
    },
    {
      "cell_type": "markdown",
      "source": [
        "# Problem description\n",
        "\n",
        "The problem will be based on my last article, but with a different dataset. I did **not** try this dataset on my own, so this is a purely research job and nobody knows what you may discover.\n",
        "\n",
        "The workflow is expected to be as follows:\n",
        "$$\\require{AMScd}\n",
        "\\begin{CD}\n",
        "\\text{CAMELS} @>\\text{download}>> \\text{Dataset} @>\\text{Persistent Homology}>>\\text{Topological Features}@>\\text{Wasserstein Distance}>>\\text{Distance from Parameters}@>\\text{Statistics}>>\\text{Result}\\\\\n",
        "\\end{CD}$$\n",
        "\n",
        "## 1. Getting the Data\n",
        "* Familiarize yourself with CAMELS dataset [LINK](https://camels.readthedocs.io/en/latest/description.html)\n",
        "* We are interested in simulations with only one cosmological parameter changing at a time [LINK](https://users.flatironinstitute.org/~camels/Rockstar/SIMBA/1P/)\n",
        "  - SIMBA simulation\n",
        "  - Rockstar Data\n",
        "  - 1P subset\n",
        "* Learn how to work with 1P subset of data. The information we are interested in is located in list-files that are basically text files with columns of data. You can simply open them in text editor to understand the structure. Primarily we will be interested in $x$, $y$, and $z$ coordinates (but maybe you will come up with ideas that use any of the rest data).\n",
        "* Learn how to associate parameters to each of the files you download [LINK](https://github.com/franciscovillaescusa/CAMELS/blob/master/docs/params/CosmoAstroSeed_SIMBA.txt)\n",
        "* There are two cosmological parameters among given: $\\Omega_m$ and $\\sigma_8$. We will be primarily interested in these parameters. You may want to check in Wikipedia their physical meaning if you want.\n",
        "* Each file is a large pointcloud (halo positions $x$, $y$, and $z$) in a large cube. Learn how to \"chop\" this cube into few smaller parts, say $8$ (each side into two parts) so that you have few different \"subsimulations\" for each cosmological parameters set.\n",
        "* Create a dataset: a number of pointclouds (halo positions) with one cosmological parameter varying. For each value of the chosen cosmological parameter you should have few pointclouds.\n",
        "\n",
        "## 2. Processing Topological Data\n",
        "\n",
        "* Familiarize yourself with general workflow, i.e. what we are trying to do: check my article [LINK](https://arxiv.org/pdf/2301.09411.pdf). Your goal will be to get something that looks like figure 6. Since cosmological simulation was already performed for you, you may skip reading that part.\n",
        "* Familiarize yourself with Gudhi library [LINK](https://gudhi.inria.fr/python/latest/). You should learn how to:\n",
        "   - calculate some complex, say alpha-complex\n",
        "   - calculate persistence intervals\n",
        "   - generate persistence diagram\n",
        "   - caclulate Wasserstein and Bottleneck distances between persistence diagrams\n",
        "* Generate persistence intervals for each of your pointclouds\n",
        "* Calculate $1$-Wasserstein distances between these sets of intervals\n",
        "\n",
        "## 3. Processing Statistical Data\n",
        "\n",
        "What you have now looks as follows\n",
        "$$\n",
        "\\begin{array}{llllllll}\n",
        "\\text{Cosmological Parameters 1} & \\xrightarrow{\\text{simulation}} &\\text{datapoints 1} &\\xrightarrow{\\text{TDA}} &\\text{Persistence Diagram 1} & \\searrow \\\\\n",
        " & & & & & \\text{Wasserstein Distance} & & \\\\\n",
        "\\text{Cosmological Parameters 2} & \\xrightarrow{\\text{simulation}} &\\text{datapoints 2} &\\xrightarrow{\\text{TDA}} &\\text{Persistence Diagram 2} & \\nearrow \\\\\n",
        "\\end{array}\n",
        "$$\n",
        "\n",
        "In some sense we are comparing cosmological parameters but in a quite convoluted way\n",
        "$$\n",
        "\\begin{array}{llllllll}\n",
        "\\text{Cosmological Parameters 1} &  \\searrow \\\\\n",
        " & \\text{Wasserstein Distance} & & \\\\\n",
        "\\text{Cosmological Parameters 2} & \\nearrow \\\\\n",
        "\\end{array}\n",
        "$$\n",
        "\n",
        "* Check whether the proposed workflow is good for distinguishing between simulations with different cosmological parameters.\n",
        "* Check whether you are able to predict cosmological parameters given a simulation.\n",
        "\n",
        "## 4. Open Questions\n",
        "\n",
        "* How sensitive are TDA methods to change in cosmological parameters?\n",
        "* How good can you predict cosmological parameters given a simulation?\n",
        "* Is filtration by mass or any other parameter helpful?\n"
      ],
      "metadata": {
        "id": "X2jTXFu-U_VE"
      }
    }
  ]
}